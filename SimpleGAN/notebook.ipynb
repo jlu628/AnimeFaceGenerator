{
 "cells": [
  {
   "cell_type": "markdown",
   "id": "3eac7e0e",
   "metadata": {},
   "source": [
    "## 0. Imports"
   ]
  },
  {
   "cell_type": "code",
   "execution_count": 1,
   "id": "3715e7cd",
   "metadata": {},
   "outputs": [],
   "source": [
    "from torch.utils.data import DataLoader\n",
    "from torchvision.utils import save_image\n",
    "import numpy as np\n",
    "import torch\n",
    "import time\n",
    "import json\n",
    "from tqdm.notebook import tqdm\n",
    "import matplotlib.pyplot as plt\n",
    "\n",
    "from dataset import LoadDataset\n",
    "from model import Generator, Discriminator\n",
    "from train import train_generator, train_discriminator, evaluate\n",
    "from settings import DEVICE, MEAN, STD, BATCH_SIZE, LATENT_SIZE, EPOCHS, LOSS_FN, OPTIMIZER, BETAS, D_LR, D_LR_DECAY, G_LR, G_LR_DECAY, CORES, LOAD_MODELS\n",
    "\n",
    "torch.set_num_threads(4)\n",
    "\n",
    "import autoreload\n",
    "%load_ext autoreload\n",
    "%autoreload 2"
   ]
  },
  {
   "cell_type": "markdown",
   "id": "f5cd1d82",
   "metadata": {},
   "source": [
    "## 1. Dataset"
   ]
  },
  {
   "cell_type": "code",
   "execution_count": 2,
   "id": "fa79b8af",
   "metadata": {},
   "outputs": [
    {
     "data": {
      "text/plain": [
       "92032"
      ]
     },
     "execution_count": 2,
     "metadata": {},
     "output_type": "execute_result"
    }
   ],
   "source": [
    "ds = LoadDataset('../data/train', MEAN, STD)\n",
    "loader = DataLoader(ds, batch_size=BATCH_SIZE, shuffle=True, num_workers=CORES)\n",
    "num_batches = len(ds)/BATCH_SIZE\n",
    "\n",
    "val_ds = LoadDataset('../data/val', MEAN, STD)\n",
    "val_loader = DataLoader(val_ds, batch_size=BATCH_SIZE, shuffle=True, num_workers=CORES)\n",
    "\n",
    "len(ds)"
   ]
  },
  {
   "cell_type": "markdown",
   "id": "7da8989d",
   "metadata": {},
   "source": [
    "## 2. Models"
   ]
  },
  {
   "cell_type": "code",
   "execution_count": 3,
   "id": "eb9be65d",
   "metadata": {},
   "outputs": [
    {
     "name": "stdout",
     "output_type": "stream",
     "text": [
      "Generator(\n",
      "  (upsampling): Sequential(\n",
      "    (0): ConvTranspose2d(128, 512, kernel_size=(4, 4), stride=(1, 1), bias=False)\n",
      "    (1): BatchNorm2d(512, eps=1e-05, momentum=0.1, affine=True, track_running_stats=True)\n",
      "    (2): ReLU(inplace=True)\n",
      "    (3): ConvTranspose2d(512, 256, kernel_size=(4, 4), stride=(2, 2), padding=(1, 1), bias=False)\n",
      "    (4): BatchNorm2d(256, eps=1e-05, momentum=0.1, affine=True, track_running_stats=True)\n",
      "    (5): ReLU(inplace=True)\n",
      "    (6): ConvTranspose2d(256, 128, kernel_size=(4, 4), stride=(2, 2), padding=(1, 1), bias=False)\n",
      "    (7): BatchNorm2d(128, eps=1e-05, momentum=0.1, affine=True, track_running_stats=True)\n",
      "    (8): ReLU(inplace=True)\n",
      "    (9): ConvTranspose2d(128, 64, kernel_size=(4, 4), stride=(2, 2), padding=(1, 1), bias=False)\n",
      "    (10): BatchNorm2d(64, eps=1e-05, momentum=0.1, affine=True, track_running_stats=True)\n",
      "    (11): ReLU(inplace=True)\n",
      "    (12): ConvTranspose2d(64, 3, kernel_size=(4, 4), stride=(2, 2), padding=(1, 1), bias=False)\n",
      "    (13): Tanh()\n",
      "  )\n",
      ")\n",
      "Discriminator(\n",
      "  (downsampling): Sequential(\n",
      "    (0): Conv2d(3, 64, kernel_size=(4, 4), stride=(2, 2), padding=(1, 1), bias=False)\n",
      "    (1): BatchNorm2d(64, eps=1e-05, momentum=0.1, affine=True, track_running_stats=True)\n",
      "    (2): LeakyReLU(negative_slope=0.2, inplace=True)\n",
      "    (3): Conv2d(64, 128, kernel_size=(4, 4), stride=(2, 2), padding=(1, 1), bias=False)\n",
      "    (4): BatchNorm2d(128, eps=1e-05, momentum=0.1, affine=True, track_running_stats=True)\n",
      "    (5): LeakyReLU(negative_slope=0.2, inplace=True)\n",
      "    (6): Conv2d(128, 256, kernel_size=(4, 4), stride=(2, 2), padding=(1, 1), bias=False)\n",
      "    (7): BatchNorm2d(256, eps=1e-05, momentum=0.1, affine=True, track_running_stats=True)\n",
      "    (8): LeakyReLU(negative_slope=0.2, inplace=True)\n",
      "    (9): Conv2d(256, 512, kernel_size=(4, 4), stride=(2, 2), padding=(1, 1), bias=False)\n",
      "    (10): BatchNorm2d(512, eps=1e-05, momentum=0.1, affine=True, track_running_stats=True)\n",
      "    (11): LeakyReLU(negative_slope=0.2, inplace=True)\n",
      "    (12): Conv2d(512, 1, kernel_size=(4, 4), stride=(2, 2), bias=False)\n",
      "    (13): Sigmoid()\n",
      "    (14): Flatten(start_dim=1, end_dim=-1)\n",
      "  )\n",
      ")\n",
      "Num parameters in Discriminator: 2765696\n",
      "Num parameters in Generator: 3806080\n"
     ]
    }
   ],
   "source": [
    "G, D = Generator(), Discriminator()\n",
    "print(G)\n",
    "print(D)\n",
    "print(f\"Num parameters in Discriminator: {sum(p.numel() for p in D.parameters())}\")\n",
    "print(f\"Num parameters in Generator: {sum(p.numel() for p in G.parameters())}\")"
   ]
  },
  {
   "cell_type": "markdown",
   "id": "9c421f84",
   "metadata": {},
   "source": [
    "## 3. Training"
   ]
  },
  {
   "cell_type": "code",
   "execution_count": 4,
   "id": "ea04b56d",
   "metadata": {},
   "outputs": [
    {
     "name": "stdout",
     "output_type": "stream",
     "text": [
      "Model loaded\n",
      "Start at epochs 100\n"
     ]
    }
   ],
   "source": [
    "d_losses = []\n",
    "g_losses = []\n",
    "r_scores = []\n",
    "f_scores = []\n",
    "d_optimizer = OPTIMIZER(D.parameters(), D_LR, betas=BETAS)\n",
    "g_optimizer = OPTIMIZER(G.parameters(), G_LR, betas=BETAS)\n",
    "\n",
    "\n",
    "try:\n",
    "    if LOAD_MODELS:\n",
    "        D.load_state_dict(torch.load('discriminator.pth'))\n",
    "        G.load_state_dict(torch.load('generator.pth'))\n",
    "        print(\"Model loaded\")\n",
    "    else:\n",
    "        print(\"Trainning new model\")\n",
    "except:\n",
    "    print(\"Trainning new model\")\n",
    "    pass\n",
    "\n",
    "D.to(DEVICE)\n",
    "G.to(DEVICE)\n",
    "\n",
    "if not LOAD_MODELS:\n",
    "    with open(\"log.json\", \"w\") as fh:\n",
    "        json.dump({\"epochs\": 0}, fh)\n",
    "    start_epochs = 0\n",
    "else:\n",
    "    with open(\"log.json\", \"r\") as fh:\n",
    "        log = json.load(fh)\n",
    "    start_epochs = log['epochs']\n",
    "    for e in range(1, start_epochs+1):\n",
    "        d_losses.append(log[str(e)]['d_loss'])\n",
    "        g_losses.append(log[str(e)]['g_loss'])\n",
    "        r_scores.append(log[str(e)]['r_score'])\n",
    "        f_scores.append(log[str(e)]['f_score'])\n",
    "\n",
    "    d_optimizer.param_groups[0]['lr'] -= D_LR_DECAY * start_epochs\n",
    "    g_optimizer.param_groups[0]['lr'] -= G_LR_DECAY * start_epochs\n",
    "    latent = torch.randn(BATCH_SIZE, *LATENT_SIZE).to(DEVICE)\n",
    "    fake_images = G(latent)*0.5 + 0.5\n",
    "    save_image(fake_images, 'current.png')\n",
    "print(f\"Start at epochs {start_epochs}\")"
   ]
  },
  {
   "cell_type": "code",
   "execution_count": 14,
   "id": "cd8c6f0d",
   "metadata": {
    "scrolled": false
   },
   "outputs": [
    {
     "data": {
      "application/vnd.jupyter.widget-view+json": {
       "model_id": "85beb6d9a8e24f02b8d0e581a241a37b",
       "version_major": 2,
       "version_minor": 0
      },
      "text/plain": [
       "  0%|          | 0/1438 [00:00<?, ?it/s]"
      ]
     },
     "metadata": {},
     "output_type": "display_data"
    },
    {
     "name": "stdout",
     "output_type": "stream",
     "text": [
      "Epoch #65: d_loss=0.36981, g_loss=2.88878, r_score=0.77802, f_score=0.08826 elapsed=2639.21 s\n"
     ]
    },
    {
     "data": {
      "application/vnd.jupyter.widget-view+json": {
       "model_id": "99a055364a8043bdab9894bf572ee97d",
       "version_major": 2,
       "version_minor": 0
      },
      "text/plain": [
       "  0%|          | 0/1438 [00:00<?, ?it/s]"
      ]
     },
     "metadata": {},
     "output_type": "display_data"
    },
    {
     "name": "stdout",
     "output_type": "stream",
     "text": [
      "Epoch #66: d_loss=0.19978, g_loss=4.99174, r_score=0.83126, f_score=0.00899 elapsed=2629.37 s\n"
     ]
    },
    {
     "data": {
      "application/vnd.jupyter.widget-view+json": {
       "model_id": "c381ec37090e47a9975575ce8788375a",
       "version_major": 2,
       "version_minor": 0
      },
      "text/plain": [
       "  0%|          | 0/1438 [00:00<?, ?it/s]"
      ]
     },
     "metadata": {},
     "output_type": "display_data"
    },
    {
     "name": "stdout",
     "output_type": "stream",
     "text": [
      "Epoch #67: d_loss=0.12095, g_loss=3.64369, r_score=0.91933, f_score=0.03417 elapsed=2472.99 s\n"
     ]
    },
    {
     "data": {
      "application/vnd.jupyter.widget-view+json": {
       "model_id": "96f62e4169894c4ea96a1ef278bdd892",
       "version_major": 2,
       "version_minor": 0
      },
      "text/plain": [
       "  0%|          | 0/1438 [00:00<?, ?it/s]"
      ]
     },
     "metadata": {},
     "output_type": "display_data"
    },
    {
     "name": "stdout",
     "output_type": "stream",
     "text": [
      "Epoch #68: d_loss=0.13105, g_loss=3.82828, r_score=0.90822, f_score=0.03084 elapsed=2534.47 s\n"
     ]
    },
    {
     "data": {
      "application/vnd.jupyter.widget-view+json": {
       "model_id": "c4444114ace54f078a98b1feb890041d",
       "version_major": 2,
       "version_minor": 0
      },
      "text/plain": [
       "  0%|          | 0/1438 [00:00<?, ?it/s]"
      ]
     },
     "metadata": {},
     "output_type": "display_data"
    },
    {
     "name": "stdout",
     "output_type": "stream",
     "text": [
      "Epoch #69: d_loss=0.15097, g_loss=6.08818, r_score=0.86674, f_score=0.00393 elapsed=2328.64 s\n"
     ]
    },
    {
     "data": {
      "application/vnd.jupyter.widget-view+json": {
       "model_id": "62462cafc67249adb73388035eca5241",
       "version_major": 2,
       "version_minor": 0
      },
      "text/plain": [
       "  0%|          | 0/1438 [00:00<?, ?it/s]"
      ]
     },
     "metadata": {},
     "output_type": "display_data"
    },
    {
     "name": "stdout",
     "output_type": "stream",
     "text": [
      "Epoch #70: d_loss=0.10196, g_loss=4.37295, r_score=0.92303, f_score=0.02016 elapsed=2174.09 s\n"
     ]
    },
    {
     "data": {
      "application/vnd.jupyter.widget-view+json": {
       "model_id": "11c787f132144f37aac842809bc52578",
       "version_major": 2,
       "version_minor": 0
      },
      "text/plain": [
       "  0%|          | 0/1438 [00:00<?, ?it/s]"
      ]
     },
     "metadata": {},
     "output_type": "display_data"
    },
    {
     "name": "stdout",
     "output_type": "stream",
     "text": [
      "Epoch #71: d_loss=0.12651, g_loss=2.92507, r_score=0.95154, f_score=0.07209 elapsed=2183.08 s\n"
     ]
    },
    {
     "data": {
      "application/vnd.jupyter.widget-view+json": {
       "model_id": "83ba9a02d0a64fbca16b595a2cd6a507",
       "version_major": 2,
       "version_minor": 0
      },
      "text/plain": [
       "  0%|          | 0/1438 [00:00<?, ?it/s]"
      ]
     },
     "metadata": {},
     "output_type": "display_data"
    },
    {
     "name": "stdout",
     "output_type": "stream",
     "text": [
      "Epoch #72: d_loss=0.14674, g_loss=5.16382, r_score=0.87684, f_score=0.00872 elapsed=2166.66 s\n"
     ]
    },
    {
     "data": {
      "application/vnd.jupyter.widget-view+json": {
       "model_id": "941b25354fd849c8843a81de5ed5097f",
       "version_major": 2,
       "version_minor": 0
      },
      "text/plain": [
       "  0%|          | 0/1438 [00:00<?, ?it/s]"
      ]
     },
     "metadata": {},
     "output_type": "display_data"
    },
    {
     "name": "stdout",
     "output_type": "stream",
     "text": [
      "Epoch #73: d_loss=0.21958, g_loss=5.28663, r_score=0.8153, f_score=0.00739 elapsed=2191.79 s\n"
     ]
    },
    {
     "data": {
      "application/vnd.jupyter.widget-view+json": {
       "model_id": "667ec70869cd4b518a566405581959f6",
       "version_major": 2,
       "version_minor": 0
      },
      "text/plain": [
       "  0%|          | 0/1438 [00:00<?, ?it/s]"
      ]
     },
     "metadata": {},
     "output_type": "display_data"
    },
    {
     "name": "stdout",
     "output_type": "stream",
     "text": [
      "Epoch #74: d_loss=0.14332, g_loss=4.42124, r_score=0.88463, f_score=0.01755 elapsed=2182.57 s\n"
     ]
    },
    {
     "data": {
      "application/vnd.jupyter.widget-view+json": {
       "model_id": "d70a1180976a44089f08d17e9981e289",
       "version_major": 2,
       "version_minor": 0
      },
      "text/plain": [
       "  0%|          | 0/1438 [00:00<?, ?it/s]"
      ]
     },
     "metadata": {},
     "output_type": "display_data"
    },
    {
     "name": "stdout",
     "output_type": "stream",
     "text": [
      "Epoch #75: d_loss=0.11612, g_loss=3.98581, r_score=0.91358, f_score=0.02351 elapsed=2173.21 s\n"
     ]
    },
    {
     "data": {
      "application/vnd.jupyter.widget-view+json": {
       "model_id": "6e76fbf38e6448e3850565b11ccaee8d",
       "version_major": 2,
       "version_minor": 0
      },
      "text/plain": [
       "  0%|          | 0/1438 [00:00<?, ?it/s]"
      ]
     },
     "metadata": {},
     "output_type": "display_data"
    },
    {
     "name": "stdout",
     "output_type": "stream",
     "text": [
      "Epoch #76: d_loss=0.12384, g_loss=4.00922, r_score=0.90942, f_score=0.02547 elapsed=2193.73 s\n"
     ]
    },
    {
     "data": {
      "application/vnd.jupyter.widget-view+json": {
       "model_id": "169c50b6566c43709b6192cdf8a9c55c",
       "version_major": 2,
       "version_minor": 0
      },
      "text/plain": [
       "  0%|          | 0/1438 [00:00<?, ?it/s]"
      ]
     },
     "metadata": {},
     "output_type": "display_data"
    },
    {
     "name": "stdout",
     "output_type": "stream",
     "text": [
      "Epoch #77: d_loss=0.20067, g_loss=4.58353, r_score=0.8384, f_score=0.01497 elapsed=2183.42 s\n"
     ]
    },
    {
     "data": {
      "application/vnd.jupyter.widget-view+json": {
       "model_id": "1b71c5645cea47c99d6d547473506f55",
       "version_major": 2,
       "version_minor": 0
      },
      "text/plain": [
       "  0%|          | 0/1438 [00:00<?, ?it/s]"
      ]
     },
     "metadata": {},
     "output_type": "display_data"
    },
    {
     "name": "stdout",
     "output_type": "stream",
     "text": [
      "Epoch #78: d_loss=0.21656, g_loss=6.45211, r_score=0.82012, f_score=0.00272 elapsed=2196.08 s\n"
     ]
    },
    {
     "data": {
      "application/vnd.jupyter.widget-view+json": {
       "model_id": "9dd59749a76548af9f5610bf418a326d",
       "version_major": 2,
       "version_minor": 0
      },
      "text/plain": [
       "  0%|          | 0/1438 [00:00<?, ?it/s]"
      ]
     },
     "metadata": {},
     "output_type": "display_data"
    },
    {
     "name": "stdout",
     "output_type": "stream",
     "text": [
      "Epoch #79: d_loss=0.19146, g_loss=4.49844, r_score=0.84205, f_score=0.01453 elapsed=2217.92 s\n"
     ]
    },
    {
     "data": {
      "application/vnd.jupyter.widget-view+json": {
       "model_id": "82f040830b3941bba0c01d89e3d5c103",
       "version_major": 2,
       "version_minor": 0
      },
      "text/plain": [
       "  0%|          | 0/1438 [00:00<?, ?it/s]"
      ]
     },
     "metadata": {},
     "output_type": "display_data"
    },
    {
     "name": "stdout",
     "output_type": "stream",
     "text": [
      "Epoch #80: d_loss=0.14773, g_loss=4.42372, r_score=0.88128, f_score=0.01732 elapsed=2215.95 s\n"
     ]
    },
    {
     "data": {
      "application/vnd.jupyter.widget-view+json": {
       "model_id": "76c726f4f77a42a5b0fb57b644c3c5ce",
       "version_major": 2,
       "version_minor": 0
      },
      "text/plain": [
       "  0%|          | 0/1438 [00:00<?, ?it/s]"
      ]
     },
     "metadata": {},
     "output_type": "display_data"
    },
    {
     "name": "stdout",
     "output_type": "stream",
     "text": [
      "Epoch #81: d_loss=0.22033, g_loss=5.251, r_score=0.81919, f_score=0.00738 elapsed=2209.71 s\n"
     ]
    },
    {
     "data": {
      "application/vnd.jupyter.widget-view+json": {
       "model_id": "4a42f2747c3a4d67b5ea7783c5633b71",
       "version_major": 2,
       "version_minor": 0
      },
      "text/plain": [
       "  0%|          | 0/1438 [00:00<?, ?it/s]"
      ]
     },
     "metadata": {},
     "output_type": "display_data"
    },
    {
     "name": "stdout",
     "output_type": "stream",
     "text": [
      "Epoch #82: d_loss=0.15307, g_loss=4.22342, r_score=0.88261, f_score=0.02116 elapsed=2215.06 s\n"
     ]
    },
    {
     "data": {
      "application/vnd.jupyter.widget-view+json": {
       "model_id": "c55985b013d34deab12de093f681f5ae",
       "version_major": 2,
       "version_minor": 0
      },
      "text/plain": [
       "  0%|          | 0/1438 [00:00<?, ?it/s]"
      ]
     },
     "metadata": {},
     "output_type": "display_data"
    },
    {
     "name": "stdout",
     "output_type": "stream",
     "text": [
      "Epoch #83: d_loss=0.16488, g_loss=5.56469, r_score=0.85647, f_score=0.00489 elapsed=2220.16 s\n"
     ]
    },
    {
     "data": {
      "application/vnd.jupyter.widget-view+json": {
       "model_id": "a1fccf97dd8e4632b71a6655510a8715",
       "version_major": 2,
       "version_minor": 0
      },
      "text/plain": [
       "  0%|          | 0/1438 [00:00<?, ?it/s]"
      ]
     },
     "metadata": {},
     "output_type": "display_data"
    },
    {
     "name": "stdout",
     "output_type": "stream",
     "text": [
      "Epoch #84: d_loss=0.42425, g_loss=5.04478, r_score=0.68834, f_score=0.01227 elapsed=2216.0 s\n"
     ]
    },
    {
     "data": {
      "application/vnd.jupyter.widget-view+json": {
       "model_id": "982aeec3e8644b4bb2d3275492708c55",
       "version_major": 2,
       "version_minor": 0
      },
      "text/plain": [
       "  0%|          | 0/1438 [00:00<?, ?it/s]"
      ]
     },
     "metadata": {},
     "output_type": "display_data"
    },
    {
     "name": "stdout",
     "output_type": "stream",
     "text": [
      "Epoch #85: d_loss=0.14673, g_loss=4.82798, r_score=0.87599, f_score=0.01097 elapsed=2225.72 s\n"
     ]
    },
    {
     "data": {
      "application/vnd.jupyter.widget-view+json": {
       "model_id": "e5fdd25d246344688c4e3c270e54829b",
       "version_major": 2,
       "version_minor": 0
      },
      "text/plain": [
       "  0%|          | 0/1438 [00:00<?, ?it/s]"
      ]
     },
     "metadata": {},
     "output_type": "display_data"
    },
    {
     "name": "stdout",
     "output_type": "stream",
     "text": [
      "Epoch #86: d_loss=0.17551, g_loss=5.14227, r_score=0.85011, f_score=0.00791 elapsed=2222.58 s\n"
     ]
    },
    {
     "data": {
      "application/vnd.jupyter.widget-view+json": {
       "model_id": "6cf36dfbee6541cdbee8a94933f515d9",
       "version_major": 2,
       "version_minor": 0
      },
      "text/plain": [
       "  0%|          | 0/1438 [00:00<?, ?it/s]"
      ]
     },
     "metadata": {},
     "output_type": "display_data"
    },
    {
     "name": "stdout",
     "output_type": "stream",
     "text": [
      "Epoch #87: d_loss=0.19028, g_loss=3.73265, r_score=0.86281, f_score=0.03437 elapsed=2215.65 s\n"
     ]
    },
    {
     "data": {
      "application/vnd.jupyter.widget-view+json": {
       "model_id": "7ae1734076c44243ab3ff73217266295",
       "version_major": 2,
       "version_minor": 0
      },
      "text/plain": [
       "  0%|          | 0/1438 [00:00<?, ?it/s]"
      ]
     },
     "metadata": {},
     "output_type": "display_data"
    },
    {
     "name": "stdout",
     "output_type": "stream",
     "text": [
      "Epoch #88: d_loss=0.14443, g_loss=4.50379, r_score=0.88255, f_score=0.01622 elapsed=2233.25 s\n"
     ]
    },
    {
     "data": {
      "application/vnd.jupyter.widget-view+json": {
       "model_id": "c2b14657275847978089a48f647c6315",
       "version_major": 2,
       "version_minor": 0
      },
      "text/plain": [
       "  0%|          | 0/1438 [00:00<?, ?it/s]"
      ]
     },
     "metadata": {},
     "output_type": "display_data"
    },
    {
     "name": "stdout",
     "output_type": "stream",
     "text": [
      "Epoch #89: d_loss=0.13954, g_loss=4.44966, r_score=0.88756, f_score=0.0163 elapsed=19012.69 s\n"
     ]
    },
    {
     "data": {
      "application/vnd.jupyter.widget-view+json": {
       "model_id": "6391d7c5db4e4babbcc2de6f6b6fe533",
       "version_major": 2,
       "version_minor": 0
      },
      "text/plain": [
       "  0%|          | 0/1438 [00:00<?, ?it/s]"
      ]
     },
     "metadata": {},
     "output_type": "display_data"
    },
    {
     "name": "stdout",
     "output_type": "stream",
     "text": [
      "Epoch #90: d_loss=0.0915, g_loss=3.63945, r_score=0.94646, f_score=0.03468 elapsed=2290.87 s\n"
     ]
    },
    {
     "data": {
      "application/vnd.jupyter.widget-view+json": {
       "model_id": "e61ec83df6e94b51b2507625d8c78de0",
       "version_major": 2,
       "version_minor": 0
      },
      "text/plain": [
       "  0%|          | 0/1438 [00:00<?, ?it/s]"
      ]
     },
     "metadata": {},
     "output_type": "display_data"
    },
    {
     "name": "stdout",
     "output_type": "stream",
     "text": [
      "Epoch #91: d_loss=0.18208, g_loss=5.13226, r_score=0.84756, f_score=0.00943 elapsed=2326.92 s\n"
     ]
    },
    {
     "data": {
      "application/vnd.jupyter.widget-view+json": {
       "model_id": "f44bdfb0634f4e5db42ab802809cc0b3",
       "version_major": 2,
       "version_minor": 0
      },
      "text/plain": [
       "  0%|          | 0/1438 [00:00<?, ?it/s]"
      ]
     },
     "metadata": {},
     "output_type": "display_data"
    },
    {
     "name": "stdout",
     "output_type": "stream",
     "text": [
      "Epoch #92: d_loss=0.14418, g_loss=5.19763, r_score=0.87531, f_score=0.0077 elapsed=2243.18 s\n"
     ]
    },
    {
     "data": {
      "application/vnd.jupyter.widget-view+json": {
       "model_id": "ef2605cee5de482584aead8ea5c6166d",
       "version_major": 2,
       "version_minor": 0
      },
      "text/plain": [
       "  0%|          | 0/1438 [00:00<?, ?it/s]"
      ]
     },
     "metadata": {},
     "output_type": "display_data"
    },
    {
     "name": "stdout",
     "output_type": "stream",
     "text": [
      "Epoch #93: d_loss=0.3692, g_loss=5.07314, r_score=0.71771, f_score=0.00916 elapsed=2244.86 s\n"
     ]
    },
    {
     "data": {
      "application/vnd.jupyter.widget-view+json": {
       "model_id": "96c7bd931e2947ec9d1b34dcae38b096",
       "version_major": 2,
       "version_minor": 0
      },
      "text/plain": [
       "  0%|          | 0/1438 [00:00<?, ?it/s]"
      ]
     },
     "metadata": {},
     "output_type": "display_data"
    },
    {
     "name": "stdout",
     "output_type": "stream",
     "text": [
      "Epoch #94: d_loss=0.10783, g_loss=5.06256, r_score=0.90678, f_score=0.00797 elapsed=2240.4 s\n"
     ]
    },
    {
     "data": {
      "application/vnd.jupyter.widget-view+json": {
       "model_id": "bb27d917671345b8988bf2cf9d5c9bc5",
       "version_major": 2,
       "version_minor": 0
      },
      "text/plain": [
       "  0%|          | 0/1438 [00:00<?, ?it/s]"
      ]
     },
     "metadata": {},
     "output_type": "display_data"
    },
    {
     "name": "stdout",
     "output_type": "stream",
     "text": [
      "Epoch #95: d_loss=0.15354, g_loss=5.95531, r_score=0.86607, f_score=0.0034 elapsed=2255.2 s\n"
     ]
    },
    {
     "data": {
      "application/vnd.jupyter.widget-view+json": {
       "model_id": "cdc571e0afa4411e82fb0b97dcc0866c",
       "version_major": 2,
       "version_minor": 0
      },
      "text/plain": [
       "  0%|          | 0/1438 [00:00<?, ?it/s]"
      ]
     },
     "metadata": {},
     "output_type": "display_data"
    },
    {
     "name": "stdout",
     "output_type": "stream",
     "text": [
      "Epoch #96: d_loss=0.27654, g_loss=5.16312, r_score=0.77539, f_score=0.0084 elapsed=2310.81 s\n"
     ]
    },
    {
     "data": {
      "application/vnd.jupyter.widget-view+json": {
       "model_id": "af6b64b8f5a14772ac5c0e4a5e132448",
       "version_major": 2,
       "version_minor": 0
      },
      "text/plain": [
       "  0%|          | 0/1438 [00:00<?, ?it/s]"
      ]
     },
     "metadata": {},
     "output_type": "display_data"
    },
    {
     "name": "stdout",
     "output_type": "stream",
     "text": [
      "Epoch #97: d_loss=0.15605, g_loss=4.82259, r_score=0.86961, f_score=0.01147 elapsed=2238.39 s\n"
     ]
    },
    {
     "data": {
      "application/vnd.jupyter.widget-view+json": {
       "model_id": "612870033a2e4c7b9c21ffa93b30dcd5",
       "version_major": 2,
       "version_minor": 0
      },
      "text/plain": [
       "  0%|          | 0/1438 [00:00<?, ?it/s]"
      ]
     },
     "metadata": {},
     "output_type": "display_data"
    },
    {
     "name": "stdout",
     "output_type": "stream",
     "text": [
      "Epoch #98: d_loss=0.10515, g_loss=4.61919, r_score=0.91411, f_score=0.01379 elapsed=2268.94 s\n"
     ]
    },
    {
     "data": {
      "application/vnd.jupyter.widget-view+json": {
       "model_id": "fd838f1cccfe47ad89a7360327143592",
       "version_major": 2,
       "version_minor": 0
      },
      "text/plain": [
       "  0%|          | 0/1438 [00:00<?, ?it/s]"
      ]
     },
     "metadata": {},
     "output_type": "display_data"
    },
    {
     "name": "stdout",
     "output_type": "stream",
     "text": [
      "Epoch #99: d_loss=0.19778, g_loss=3.35776, r_score=0.86184, f_score=0.04409 elapsed=3554.88 s\n"
     ]
    },
    {
     "data": {
      "application/vnd.jupyter.widget-view+json": {
       "model_id": "55627873d8f24686b2c2eb496363aead",
       "version_major": 2,
       "version_minor": 0
      },
      "text/plain": [
       "  0%|          | 0/1438 [00:00<?, ?it/s]"
      ]
     },
     "metadata": {},
     "output_type": "display_data"
    },
    {
     "name": "stdout",
     "output_type": "stream",
     "text": [
      "Epoch #100: d_loss=0.47265, g_loss=5.81242, r_score=0.64815, f_score=0.00728 elapsed=3574.15 s\n"
     ]
    }
   ],
   "source": [
    "for epochs in range(start_epochs, EPOCHS):\n",
    "    start = time.time()\n",
    "\n",
    "    for batch_images in tqdm(loader):\n",
    "        batch_images = batch_images.to(DEVICE)\n",
    "        d_loss = train_discriminator(G, D, batch_images, LOSS_FN, d_optimizer, LATENT_SIZE, BATCH_SIZE, DEVICE)\n",
    "        g_loss = train_generator(G, D, LOSS_FN, g_optimizer, LATENT_SIZE, BATCH_SIZE, DEVICE)\n",
    "        \n",
    "    d_loss, g_loss, r_score, f_score, fake_images = evaluate(G, D, LOSS_FN, val_loader, LATENT_SIZE, BATCH_SIZE, DEVICE)\n",
    "    d_losses.append(d_loss)\n",
    "    g_losses.append(g_loss)\n",
    "    r_scores.append(r_score)\n",
    "    f_scores.append(f_score)\n",
    "    torch.save(G.state_dict(), 'generator.pth')\n",
    "    torch.save(D.state_dict(), 'discriminator.pth')\n",
    "    \n",
    "    d_loss = round(d_loss,5)\n",
    "    g_loss = round(g_loss,5)\n",
    "    r_score = round(r_score,5)\n",
    "    f_score = round(f_score,5)\n",
    "\n",
    "    d_optimizer.param_groups[0]['lr'] -= D_LR_DECAY\n",
    "    g_optimizer.param_groups[0]['lr'] -= G_LR_DECAY\n",
    "\n",
    "    elapsed = round(time.time()-start, 2)\n",
    "    print(f\"Epoch #{epochs+1}: d_loss={d_loss}, g_loss={g_loss}, r_score={r_score}, f_score={f_score} elapsed={elapsed} s\")\n",
    "    \n",
    "    with open(\"log.json\", \"r\") as fh:\n",
    "        log = json.load(fh)\n",
    "    log[\"epochs\"] += 1\n",
    "    log[epochs+1] = {\"d_loss\": d_loss, \"g_loss\": g_loss, \"r_score\": r_score, \"f_score\": f_score, \"elapsed\": elapsed}\n",
    "    \n",
    "    with open(\"log.json\", \"w\") as fh:\n",
    "        json.dump(log, fh)\n",
    "    \n",
    "    save_image(fake_images, f'output/{epochs+1}.png')"
   ]
  },
  {
   "cell_type": "markdown",
   "id": "c81ad912",
   "metadata": {},
   "source": [
    "## 4. Visualization"
   ]
  },
  {
   "cell_type": "code",
   "execution_count": 6,
   "id": "534befe8",
   "metadata": {},
   "outputs": [
    {
     "data": {
      "image/png": "[encoded data removed]",
      "text/plain": [
       "<Figure size 432x288 with 1 Axes>"
      ]
     },
     "metadata": {
      "needs_background": "light"
     },
     "output_type": "display_data"
    }
   ],
   "source": [
    "G, D = Generator(), Discriminator()\n",
    "D.load_state_dict(torch.load('discriminator.pth'))\n",
    "G.load_state_dict(torch.load('generator.pth'))\n",
    "\n",
    "x = np.linspace(1,100,100)\n",
    "plt.plot(x, d_losses, label='Discriminator loss')\n",
    "plt.plot(x, g_losses, label='Generator loss')\n",
    "plt.legend()\n",
    "plt.show()"
   ]
  },
  {
   "cell_type": "code",
   "execution_count": 7,
   "id": "d313741a",
   "metadata": {},
   "outputs": [
    {
     "data": {
      "image/png": "[encoded data removed]",
      "text/plain": [
       "<Figure size 432x288 with 1 Axes>"
      ]
     },
     "metadata": {
      "needs_background": "light"
     },
     "output_type": "display_data"
    }
   ],
   "source": [
    "plt.plot(x, f_scores, label='Fake score')\n",
    "plt.plot(x, r_scores, label='Real score')\n",
    "plt.legend()\n",
    "plt.show()"
   ]
  },
  {
   "cell_type": "code",
   "execution_count": 50,
   "id": "f41b8bb3",
   "metadata": {},
   "outputs": [
    {
     "data": {
      "image/png": "[encoded data removed]",
      "text/plain": [
       "<Figure size 432x288 with 1 Axes>"
      ]
     },
     "metadata": {
      "needs_background": "light"
     },
     "output_type": "display_data"
    }
   ],
   "source": [
    "from torchvision import transforms\n",
    "from PIL import Image\n",
    "\n",
    "num_tests = 8\n",
    "with torch.no_grad():\n",
    "    test_latent = torch.randn(num_tests, 128, 1, 1).to(DEVICE)\n",
    "    generated = G(test_latent) * 0.5 + 0.5\n",
    "    save_image(generated, 'result.png')\n",
    "    with Image.open('result.png') as im:\n",
    "        result = np.array(im)\n",
    "    plt.imshow(result)"
   ]
  },
  {
   "cell_type": "code",
   "execution_count": null,
   "id": "023dd94c",
   "metadata": {},
   "outputs": [],
   "source": []
  }
 ],
 "metadata": {
  "kernelspec": {
   "display_name": "Python 3 (ipykernel)",
   "language": "python",
   "name": "python3"
  },
  "language_info": {
   "codemirror_mode": {
    "name": "ipython",
    "version": 3
   },
   "file_extension": ".py",
   "mimetype": "text/x-python",
   "name": "python",
   "nbconvert_exporter": "python",
   "pygments_lexer": "ipython3",
   "version": "3.9.7"
  }
 },
 "nbformat": 4,
 "nbformat_minor": 5
}
