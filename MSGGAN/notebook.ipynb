{
 "cells": [
  {
   "cell_type": "markdown",
   "id": "3eac7e0e",
   "metadata": {},
   "source": [
    "## 0. Imports"
   ]
  },
  {
   "cell_type": "code",
   "execution_count": 1,
   "id": "3715e7cd",
   "metadata": {},
   "outputs": [],
   "source": [
    "from torch.utils.data import DataLoader\n",
    "from torchvision.utils import save_image\n",
    "import numpy as np\n",
    "import torch\n",
    "import time\n",
    "import json\n",
    "from tqdm.notebook import tqdm\n",
    "\n",
    "from dataset import LoadDataset\n",
    "from MSGModel import Generator, Discriminator, DownSampleImage\n",
    "from trainMSG import train_generator, train_discriminator, evaluate\n",
    "from settings import DEVICE, MEAN, STD, BATCH_SIZE, LATENT_SIZE, EPOCHS, TRAINNING_DS_SIZE, RELOAD_DS_PER_EPOCH, LOSS_FN, OPTIMIZER, BETAS, D_LR, D_LR_DECAY, G_LR, G_LR_DECAY, CORES, LOAD_MODELS\n",
    "\n",
    "# torch.set_num_threads(4)\n",
    "\n",
    "%load_ext autoreload\n",
    "%autoreload 2"
   ]
  },
  {
   "cell_type": "markdown",
   "id": "f5cd1d82",
   "metadata": {},
   "source": [
    "## 1. Dataset"
   ]
  },
  {
   "cell_type": "code",
   "execution_count": 2,
   "id": "fa79b8af",
   "metadata": {},
   "outputs": [
    {
     "name": "stdout",
     "output_type": "stream",
     "text": [
      "Dataset size: 92032, loader size: 11504\n",
      "Validation dataset size: 192, validation loader size: 24\n"
     ]
    }
   ],
   "source": [
    "ds = LoadDataset('../data/train', MEAN, STD, length=TRAINNING_DS_SIZE)\n",
    "loader = DataLoader(ds, batch_size=BATCH_SIZE, shuffle=True, num_workers=CORES)\n",
    "\n",
    "val_ds = LoadDataset('../data/val', MEAN, STD)\n",
    "val_loader = DataLoader(val_ds, batch_size=BATCH_SIZE, shuffle=True, num_workers=CORES)\n",
    "\n",
    "print(f\"Dataset size: {len(ds)}, loader size: {len(loader)}\")\n",
    "print(f\"Validation dataset size: {len(val_ds)}, validation loader size: {len(val_loader)}\")"
   ]
  },
  {
   "cell_type": "markdown",
   "id": "7da8989d",
   "metadata": {},
   "source": [
    "## 2. Models"
   ]
  },
  {
   "cell_type": "code",
   "execution_count": 3,
   "id": "eb9be65d",
   "metadata": {
    "scrolled": true
   },
   "outputs": [
    {
     "name": "stdout",
     "output_type": "stream",
     "text": [
      "Num parameters in Discriminator: 23137153\n",
      "Num parameters in Generator: 23053781\n"
     ]
    }
   ],
   "source": [
    "G, D, downsampler = Generator(), Discriminator(), DownSampleImage()\n",
    "# print(G)\n",
    "# print(D)\n",
    "print(f\"Num parameters in Discriminator: {sum(p.numel() for p in D.parameters())}\")\n",
    "print(f\"Num parameters in Generator: {sum(p.numel() for p in G.parameters())}\")"
   ]
  },
  {
   "cell_type": "markdown",
   "id": "9c421f84",
   "metadata": {},
   "source": [
    "## 3. Training"
   ]
  },
  {
   "cell_type": "code",
   "execution_count": 4,
   "id": "ea04b56d",
   "metadata": {},
   "outputs": [
    {
     "name": "stdout",
     "output_type": "stream",
     "text": [
      "Model loaded\n",
      "Start at epochs 39\n"
     ]
    }
   ],
   "source": [
    "d_losses = []\n",
    "g_losses = []\n",
    "r_scores = []\n",
    "f_scores = []\n",
    "d_optimizer = OPTIMIZER(D.parameters(), D_LR, betas=BETAS)\n",
    "g_optimizer = OPTIMIZER(G.parameters(), G_LR, betas=BETAS)\n",
    "\n",
    "try:\n",
    "    if LOAD_MODELS:\n",
    "        D.load_state_dict(torch.load('models/discriminator.pth'))\n",
    "        G.load_state_dict(torch.load('models/generator.pth'))\n",
    "        print(\"Model loaded\")\n",
    "    else:\n",
    "        print(\"Trainning new model\")\n",
    "except:\n",
    "    LOAD_MODEL = False\n",
    "    print(\"Trainning new model\")\n",
    "    pass\n",
    "\n",
    "D.to(DEVICE)\n",
    "G.to(DEVICE)\n",
    "\n",
    "if not LOAD_MODELS:\n",
    "    with open(\"log.json\", \"w\") as fh:\n",
    "        json.dump({\"epochs\": 0}, fh)\n",
    "    start_epochs = 0\n",
    "else:\n",
    "    with open(\"log.json\", \"r\") as fh:\n",
    "        log = json.load(fh)\n",
    "    start_epochs = log['epochs']\n",
    "    for e in range(1, start_epochs+1):\n",
    "        d_losses.append(log[str(e)]['d_loss'])\n",
    "        g_losses.append(log[str(e)]['g_loss'])\n",
    "        r_scores.append(log[str(e)]['r_score'])\n",
    "        f_scores.append(log[str(e)]['f_score'])\n",
    "\n",
    "    d_optimizer.param_groups[0]['lr'] -= D_LR_DECAY * start_epochs\n",
    "    g_optimizer.param_groups[0]['lr'] -= G_LR_DECAY * start_epochs\n",
    "    \n",
    "    latent = torch.randn(BATCH_SIZE, *LATENT_SIZE).to(DEVICE)\n",
    "    fake_images = G(latent)[0] * 0.5 + 0.5\n",
    "    save_image(fake_images, 'current.png')\n",
    "\n",
    "print(f\"Start at epochs {start_epochs}\")"
   ]
  },
  {
   "cell_type": "code",
   "execution_count": 5,
   "id": "cd8c6f0d",
   "metadata": {
    "scrolled": false
   },
   "outputs": [
    {
     "data": {
      "application/vnd.jupyter.widget-view+json": {
       "model_id": "2d71c55101274709a1338f1489e267c6",
       "version_major": 2,
       "version_minor": 0
      },
      "text/plain": [
       "  0%|          | 0/11504 [00:00<?, ?it/s]"
      ]
     },
     "metadata": {},
     "output_type": "display_data"
    },
    {
     "name": "stdout",
     "output_type": "stream",
     "text": [
      "Epoch #40: d_loss=0.71647, g_loss=2.69979, r_score=0.67862, f_score=0.12022 elapsed=4998.07 s\n"
     ]
    },
    {
     "data": {
      "application/vnd.jupyter.widget-view+json": {
       "model_id": "39ebd7e0983246df962e6819b850032e",
       "version_major": 2,
       "version_minor": 0
      },
      "text/plain": [
       "  0%|          | 0/11504 [00:00<?, ?it/s]"
      ]
     },
     "metadata": {},
     "output_type": "display_data"
    },
    {
     "name": "stdout",
     "output_type": "stream",
     "text": [
      "Epoch #41: d_loss=0.13717, g_loss=8.22196, r_score=0.87877, f_score=0.00144 elapsed=4985.12 s\n"
     ]
    },
    {
     "data": {
      "application/vnd.jupyter.widget-view+json": {
       "model_id": "92710f2038034a8bbe489ef9753627aa",
       "version_major": 2,
       "version_minor": 0
      },
      "text/plain": [
       "  0%|          | 0/11504 [00:00<?, ?it/s]"
      ]
     },
     "metadata": {},
     "output_type": "display_data"
    },
    {
     "name": "stdout",
     "output_type": "stream",
     "text": [
      "Epoch #42: d_loss=0.20721, g_loss=6.27129, r_score=0.82446, f_score=0.01245 elapsed=4973.17 s\n"
     ]
    },
    {
     "data": {
      "application/vnd.jupyter.widget-view+json": {
       "model_id": "00f25373c0a94619a7c7c4659447e4fa",
       "version_major": 2,
       "version_minor": 0
      },
      "text/plain": [
       "  0%|          | 0/11504 [00:00<?, ?it/s]"
      ]
     },
     "metadata": {},
     "output_type": "display_data"
    },
    {
     "name": "stdout",
     "output_type": "stream",
     "text": [
      "Epoch #43: d_loss=0.11716, g_loss=5.03163, r_score=0.90849, f_score=0.02072 elapsed=4973.17 s\n"
     ]
    },
    {
     "data": {
      "application/vnd.jupyter.widget-view+json": {
       "model_id": "e4de21feaf5044e19749096cf95855c5",
       "version_major": 2,
       "version_minor": 0
      },
      "text/plain": [
       "  0%|          | 0/11504 [00:00<?, ?it/s]"
      ]
     },
     "metadata": {},
     "output_type": "display_data"
    },
    {
     "name": "stdout",
     "output_type": "stream",
     "text": [
      "Epoch #44: d_loss=0.45308, g_loss=3.58495, r_score=0.81205, f_score=0.16802 elapsed=4968.67 s\n"
     ]
    },
    {
     "data": {
      "application/vnd.jupyter.widget-view+json": {
       "model_id": "bce96ed1e4f24521a78837465e713e1b",
       "version_major": 2,
       "version_minor": 0
      },
      "text/plain": [
       "  0%|          | 0/11504 [00:00<?, ?it/s]"
      ]
     },
     "metadata": {},
     "output_type": "display_data"
    },
    {
     "name": "stdout",
     "output_type": "stream",
     "text": [
      "Epoch #45: d_loss=0.13566, g_loss=7.96275, r_score=0.87735, f_score=0.00448 elapsed=4974.47 s\n"
     ]
    },
    {
     "data": {
      "application/vnd.jupyter.widget-view+json": {
       "model_id": "88136943eae44c258355c5d2c94b9872",
       "version_major": 2,
       "version_minor": 0
      },
      "text/plain": [
       "  0%|          | 0/11504 [00:00<?, ?it/s]"
      ]
     },
     "metadata": {},
     "output_type": "display_data"
    },
    {
     "name": "stdout",
     "output_type": "stream",
     "text": [
      "Epoch #46: d_loss=0.10742, g_loss=15.19667, r_score=0.89825, f_score=0.0 elapsed=4972.24 s\n"
     ]
    },
    {
     "data": {
      "application/vnd.jupyter.widget-view+json": {
       "model_id": "9d7b0576b2cd4e66bec7b466c87cce3a",
       "version_major": 2,
       "version_minor": 0
      },
      "text/plain": [
       "  0%|          | 0/11504 [00:00<?, ?it/s]"
      ]
     },
     "metadata": {},
     "output_type": "display_data"
    },
    {
     "name": "stdout",
     "output_type": "stream",
     "text": [
      "Epoch #47: d_loss=0.10788, g_loss=10.7719, r_score=0.89789, f_score=4e-05 elapsed=4976.21 s\n"
     ]
    },
    {
     "data": {
      "application/vnd.jupyter.widget-view+json": {
       "model_id": "d3f4847b64564afa830877c76fe332f9",
       "version_major": 2,
       "version_minor": 0
      },
      "text/plain": [
       "  0%|          | 0/11504 [00:00<?, ?it/s]"
      ]
     },
     "metadata": {},
     "output_type": "display_data"
    },
    {
     "name": "stdout",
     "output_type": "stream",
     "text": [
      "Epoch #48: d_loss=0.17486, g_loss=7.24793, r_score=0.84455, f_score=0.00466 elapsed=4966.53 s\n"
     ]
    },
    {
     "data": {
      "application/vnd.jupyter.widget-view+json": {
       "model_id": "6c7d37d04d334b1f8dbfc87ff805933a",
       "version_major": 2,
       "version_minor": 0
      },
      "text/plain": [
       "  0%|          | 0/11504 [00:00<?, ?it/s]"
      ]
     },
     "metadata": {},
     "output_type": "display_data"
    },
    {
     "name": "stdout",
     "output_type": "stream",
     "text": [
      "Epoch #49: d_loss=0.19596, g_loss=15.64569, r_score=0.82478, f_score=1e-05 elapsed=4963.1 s\n"
     ]
    },
    {
     "data": {
      "application/vnd.jupyter.widget-view+json": {
       "model_id": "b15c3ee6d2484652996b95d15dc4a2cb",
       "version_major": 2,
       "version_minor": 0
      },
      "text/plain": [
       "  0%|          | 0/11504 [00:00<?, ?it/s]"
      ]
     },
     "metadata": {},
     "output_type": "display_data"
    },
    {
     "name": "stdout",
     "output_type": "stream",
     "text": [
      "Epoch #50: d_loss=0.21178, g_loss=7.89322, r_score=0.82858, f_score=0.00465 elapsed=4969.67 s\n"
     ]
    },
    {
     "data": {
      "application/vnd.jupyter.widget-view+json": {
       "model_id": "49f9e3f03be84ac7acf67ede7d97cd98",
       "version_major": 2,
       "version_minor": 0
      },
      "text/plain": [
       "  0%|          | 0/11504 [00:00<?, ?it/s]"
      ]
     },
     "metadata": {},
     "output_type": "display_data"
    },
    {
     "name": "stdout",
     "output_type": "stream",
     "text": [
      "Epoch #51: d_loss=0.14009, g_loss=6.43774, r_score=0.88645, f_score=0.01865 elapsed=4973.59 s\n"
     ]
    },
    {
     "data": {
      "application/vnd.jupyter.widget-view+json": {
       "model_id": "40d345896e1848258924d69491ef0da4",
       "version_major": 2,
       "version_minor": 0
      },
      "text/plain": [
       "  0%|          | 0/11504 [00:00<?, ?it/s]"
      ]
     },
     "metadata": {},
     "output_type": "display_data"
    },
    {
     "name": "stdout",
     "output_type": "stream",
     "text": [
      "Epoch #52: d_loss=0.10502, g_loss=12.52121, r_score=0.90099, f_score=0.00039 elapsed=4989.46 s\n"
     ]
    },
    {
     "data": {
      "application/vnd.jupyter.widget-view+json": {
       "model_id": "eee99c191a6e4947a8c21fc3feaf2e21",
       "version_major": 2,
       "version_minor": 0
      },
      "text/plain": [
       "  0%|          | 0/11504 [00:00<?, ?it/s]"
      ]
     },
     "metadata": {},
     "output_type": "display_data"
    },
    {
     "name": "stdout",
     "output_type": "stream",
     "text": [
      "Epoch #53: d_loss=0.10091, g_loss=15.93653, r_score=0.90418, f_score=1e-05 elapsed=4991.46 s\n"
     ]
    },
    {
     "data": {
      "application/vnd.jupyter.widget-view+json": {
       "model_id": "2ff531e1b1f24354b7ce130f5b8097d8",
       "version_major": 2,
       "version_minor": 0
      },
      "text/plain": [
       "  0%|          | 0/11504 [00:00<?, ?it/s]"
      ]
     },
     "metadata": {},
     "output_type": "display_data"
    },
    {
     "name": "stdout",
     "output_type": "stream",
     "text": [
      "Epoch #54: d_loss=0.11572, g_loss=6.69797, r_score=0.89538, f_score=0.00466 elapsed=4994.38 s\n"
     ]
    },
    {
     "data": {
      "application/vnd.jupyter.widget-view+json": {
       "model_id": "45900d13c01a41a09f3f1830f6b9f0b1",
       "version_major": 2,
       "version_minor": 0
      },
      "text/plain": [
       "  0%|          | 0/11504 [00:00<?, ?it/s]"
      ]
     },
     "metadata": {},
     "output_type": "display_data"
    },
    {
     "name": "stdout",
     "output_type": "stream",
     "text": [
      "Epoch #55: d_loss=0.11542, g_loss=8.6412, r_score=0.89181, f_score=0.00084 elapsed=4994.66 s\n"
     ]
    },
    {
     "data": {
      "application/vnd.jupyter.widget-view+json": {
       "model_id": "ba89133113bd49f4b28cd426d4ecde68",
       "version_major": 2,
       "version_minor": 0
      },
      "text/plain": [
       "  0%|          | 0/11504 [00:00<?, ?it/s]"
      ]
     },
     "metadata": {},
     "output_type": "display_data"
    },
    {
     "name": "stdout",
     "output_type": "stream",
     "text": [
      "Epoch #56: d_loss=0.10749, g_loss=10.29727, r_score=0.89833, f_score=0.0001 elapsed=4993.5 s\n"
     ]
    },
    {
     "data": {
      "application/vnd.jupyter.widget-view+json": {
       "model_id": "1ecf1403b1574ccf8b84d4ae49d25475",
       "version_major": 2,
       "version_minor": 0
      },
      "text/plain": [
       "  0%|          | 0/11504 [00:00<?, ?it/s]"
      ]
     },
     "metadata": {},
     "output_type": "display_data"
    },
    {
     "name": "stdout",
     "output_type": "stream",
     "text": [
      "Epoch #57: d_loss=0.11004, g_loss=11.82135, r_score=0.89593, f_score=2e-05 elapsed=4991.3 s\n"
     ]
    },
    {
     "data": {
      "application/vnd.jupyter.widget-view+json": {
       "model_id": "f026aed3acda45a3952ab70c1dc8232a",
       "version_major": 2,
       "version_minor": 0
      },
      "text/plain": [
       "  0%|          | 0/11504 [00:00<?, ?it/s]"
      ]
     },
     "metadata": {},
     "output_type": "display_data"
    },
    {
     "name": "stdout",
     "output_type": "stream",
     "text": [
      "Epoch #58: d_loss=0.09879, g_loss=8.61689, r_score=0.90653, f_score=0.00052 elapsed=4991.13 s\n"
     ]
    },
    {
     "data": {
      "application/vnd.jupyter.widget-view+json": {
       "model_id": "10e4b7946f484d2b89ca5f86bd96488e",
       "version_major": 2,
       "version_minor": 0
      },
      "text/plain": [
       "  0%|          | 0/11504 [00:00<?, ?it/s]"
      ]
     },
     "metadata": {},
     "output_type": "display_data"
    },
    {
     "name": "stdout",
     "output_type": "stream",
     "text": [
      "Epoch #59: d_loss=0.09512, g_loss=7.8976, r_score=0.91215, f_score=0.00293 elapsed=4983.7 s\n"
     ]
    },
    {
     "data": {
      "application/vnd.jupyter.widget-view+json": {
       "model_id": "c0cc2b33715146c0877e2f27c42735a2",
       "version_major": 2,
       "version_minor": 0
      },
      "text/plain": [
       "  0%|          | 0/11504 [00:00<?, ?it/s]"
      ]
     },
     "metadata": {},
     "output_type": "display_data"
    },
    {
     "name": "stdout",
     "output_type": "stream",
     "text": [
      "Epoch #60: d_loss=0.13617, g_loss=10.63563, r_score=0.87309, f_score=8e-05 elapsed=4975.28 s\n"
     ]
    },
    {
     "data": {
      "application/vnd.jupyter.widget-view+json": {
       "model_id": "048aa255bcad441f8e7533306ad0b6ac",
       "version_major": 2,
       "version_minor": 0
      },
      "text/plain": [
       "  0%|          | 0/11504 [00:00<?, ?it/s]"
      ]
     },
     "metadata": {},
     "output_type": "display_data"
    },
    {
     "name": "stdout",
     "output_type": "stream",
     "text": [
      "Epoch #61: d_loss=0.1044, g_loss=11.71237, r_score=0.90146, f_score=0.00029 elapsed=4965.45 s\n"
     ]
    },
    {
     "data": {
      "application/vnd.jupyter.widget-view+json": {
       "model_id": "2284250a624b48eab08a4b00fe5746af",
       "version_major": 2,
       "version_minor": 0
      },
      "text/plain": [
       "  0%|          | 0/11504 [00:00<?, ?it/s]"
      ]
     },
     "metadata": {},
     "output_type": "display_data"
    },
    {
     "name": "stdout",
     "output_type": "stream",
     "text": [
      "Epoch #62: d_loss=0.10496, g_loss=5.56778, r_score=0.91115, f_score=0.01149 elapsed=4975.96 s\n"
     ]
    },
    {
     "data": {
      "application/vnd.jupyter.widget-view+json": {
       "model_id": "5038e954ee194ac8ae33eeae9aa880ed",
       "version_major": 2,
       "version_minor": 0
      },
      "text/plain": [
       "  0%|          | 0/11504 [00:00<?, ?it/s]"
      ]
     },
     "metadata": {},
     "output_type": "display_data"
    },
    {
     "name": "stdout",
     "output_type": "stream",
     "text": [
      "Epoch #63: d_loss=0.13672, g_loss=13.18072, r_score=0.87295, f_score=0.0001 elapsed=4971.32 s\n"
     ]
    },
    {
     "data": {
      "application/vnd.jupyter.widget-view+json": {
       "model_id": "1cf0dccd2ea44a2ebe9144e830444085",
       "version_major": 2,
       "version_minor": 0
      },
      "text/plain": [
       "  0%|          | 0/11504 [00:00<?, ?it/s]"
      ]
     },
     "metadata": {},
     "output_type": "display_data"
    },
    {
     "name": "stdout",
     "output_type": "stream",
     "text": [
      "Epoch #64: d_loss=0.11238, g_loss=12.72839, r_score=0.89486, f_score=0.00083 elapsed=4961.87 s\n"
     ]
    },
    {
     "data": {
      "application/vnd.jupyter.widget-view+json": {
       "model_id": "538e7e9b7923406298c42d3ebc9703b0",
       "version_major": 2,
       "version_minor": 0
      },
      "text/plain": [
       "  0%|          | 0/11504 [00:00<?, ?it/s]"
      ]
     },
     "metadata": {},
     "output_type": "display_data"
    },
    {
     "name": "stdout",
     "output_type": "stream",
     "text": [
      "Epoch #65: d_loss=0.11833, g_loss=7.24915, r_score=0.89103, f_score=0.00271 elapsed=4965.69 s\n"
     ]
    },
    {
     "data": {
      "application/vnd.jupyter.widget-view+json": {
       "model_id": "2761abf6bea54d0ba20d067767617358",
       "version_major": 2,
       "version_minor": 0
      },
      "text/plain": [
       "  0%|          | 0/11504 [00:00<?, ?it/s]"
      ]
     },
     "metadata": {},
     "output_type": "display_data"
    },
    {
     "name": "stdout",
     "output_type": "stream",
     "text": [
      "Epoch #66: d_loss=0.06948, g_loss=12.62508, r_score=0.93301, f_score=1e-05 elapsed=4961.96 s\n"
     ]
    },
    {
     "data": {
      "application/vnd.jupyter.widget-view+json": {
       "model_id": "03a77996d43d4ae5894a99e4c771c94a",
       "version_major": 2,
       "version_minor": 0
      },
      "text/plain": [
       "  0%|          | 0/11504 [00:00<?, ?it/s]"
      ]
     },
     "metadata": {},
     "output_type": "display_data"
    },
    {
     "name": "stdout",
     "output_type": "stream",
     "text": [
      "Epoch #67: d_loss=0.13792, g_loss=9.0433, r_score=0.87235, f_score=0.00047 elapsed=4967.16 s\n"
     ]
    },
    {
     "data": {
      "application/vnd.jupyter.widget-view+json": {
       "model_id": "e19b39790a7049daa55e1a3c2f14711a",
       "version_major": 2,
       "version_minor": 0
      },
      "text/plain": [
       "  0%|          | 0/11504 [00:00<?, ?it/s]"
      ]
     },
     "metadata": {},
     "output_type": "display_data"
    },
    {
     "name": "stdout",
     "output_type": "stream",
     "text": [
      "Epoch #68: d_loss=1.20351, g_loss=1.76654, r_score=0.66188, f_score=0.49299 elapsed=4963.79 s\n"
     ]
    },
    {
     "data": {
      "application/vnd.jupyter.widget-view+json": {
       "model_id": "e6a1060c9fe94d4ea006d810f36d0a79",
       "version_major": 2,
       "version_minor": 0
      },
      "text/plain": [
       "  0%|          | 0/11504 [00:00<?, ?it/s]"
      ]
     },
     "metadata": {},
     "output_type": "display_data"
    },
    {
     "name": "stdout",
     "output_type": "stream",
     "text": [
      "Epoch #69: d_loss=0.10182, g_loss=20.10543, r_score=0.90347, f_score=0.0 elapsed=4960.2 s\n"
     ]
    },
    {
     "data": {
      "application/vnd.jupyter.widget-view+json": {
       "model_id": "d1a5e54971c2439f8733da4993c911ce",
       "version_major": 2,
       "version_minor": 0
      },
      "text/plain": [
       "  0%|          | 0/11504 [00:00<?, ?it/s]"
      ]
     },
     "metadata": {},
     "output_type": "display_data"
    },
    {
     "name": "stdout",
     "output_type": "stream",
     "text": [
      "Epoch #70: d_loss=0.11854, g_loss=7.24891, r_score=0.89, f_score=0.00153 elapsed=4959.62 s\n"
     ]
    },
    {
     "data": {
      "application/vnd.jupyter.widget-view+json": {
       "model_id": "53bfc387dd4f49ee9ac0ceb28662e9c4",
       "version_major": 2,
       "version_minor": 0
      },
      "text/plain": [
       "  0%|          | 0/11504 [00:00<?, ?it/s]"
      ]
     },
     "metadata": {},
     "output_type": "display_data"
    },
    {
     "name": "stdout",
     "output_type": "stream",
     "text": [
      "Epoch #71: d_loss=0.33986, g_loss=8.98604, r_score=0.73745, f_score=0.00032 elapsed=4964.71 s\n"
     ]
    },
    {
     "data": {
      "application/vnd.jupyter.widget-view+json": {
       "model_id": "25816f0c25314836840d1dbb1a94723e",
       "version_major": 2,
       "version_minor": 0
      },
      "text/plain": [
       "  0%|          | 0/11504 [00:00<?, ?it/s]"
      ]
     },
     "metadata": {},
     "output_type": "display_data"
    },
    {
     "name": "stdout",
     "output_type": "stream",
     "text": [
      "Epoch #72: d_loss=0.32175, g_loss=3.27144, r_score=0.83202, f_score=0.11682 elapsed=4969.8 s\n"
     ]
    },
    {
     "data": {
      "application/vnd.jupyter.widget-view+json": {
       "model_id": "310715220e804877bcfa29f25c89a88e",
       "version_major": 2,
       "version_minor": 0
      },
      "text/plain": [
       "  0%|          | 0/11504 [00:00<?, ?it/s]"
      ]
     },
     "metadata": {},
     "output_type": "display_data"
    },
    {
     "name": "stdout",
     "output_type": "stream",
     "text": [
      "Epoch #73: d_loss=0.30318, g_loss=10.8112, r_score=0.81948, f_score=7e-05 elapsed=4968.3 s\n"
     ]
    },
    {
     "data": {
      "application/vnd.jupyter.widget-view+json": {
       "model_id": "cf75a7916faf4e98b6d77f3c1098d50b",
       "version_major": 2,
       "version_minor": 0
      },
      "text/plain": [
       "  0%|          | 0/11504 [00:00<?, ?it/s]"
      ]
     },
     "metadata": {},
     "output_type": "display_data"
    },
    {
     "name": "stderr",
     "output_type": "stream",
     "text": [
      "Exception ignored in: <function _MultiProcessingDataLoaderIter.__del__ at 0x000001DBADFA0E50>\n",
      "Traceback (most recent call last):\n",
      "  File \"C:\\Users\\Jerry\\miniconda3\\envs\\jupyter\\lib\\site-packages\\torch\\utils\\data\\dataloader.py\", line 1510, in __del__\n",
      "    self._shutdown_workers()\n",
      "  File \"C:\\Users\\Jerry\\miniconda3\\envs\\jupyter\\lib\\site-packages\\torch\\utils\\data\\dataloader.py\", line 1474, in _shutdown_workers\n",
      "    w.join(timeout=_utils.MP_STATUS_CHECK_INTERVAL)\n",
      "  File \"C:\\Users\\Jerry\\miniconda3\\envs\\jupyter\\lib\\multiprocessing\\process.py\", line 149, in join\n",
      "    res = self._popen.wait(timeout)\n",
      "  File \"C:\\Users\\Jerry\\miniconda3\\envs\\jupyter\\lib\\multiprocessing\\popen_spawn_win32.py\", line 108, in wait\n",
      "    res = _winapi.WaitForSingleObject(int(self._handle), msecs)\n",
      "KeyboardInterrupt: \n"
     ]
    },
    {
     "ename": "KeyboardInterrupt",
     "evalue": "",
     "output_type": "error",
     "traceback": [
      "\u001b[1;31m---------------------------------------------------------------------------\u001b[0m",
      "\u001b[1;31mKeyboardInterrupt\u001b[0m                         Traceback (most recent call last)",
      "Input \u001b[1;32mIn [5]\u001b[0m, in \u001b[0;36m<cell line: 1>\u001b[1;34m()\u001b[0m\n\u001b[0;32m      9\u001b[0m \u001b[38;5;28;01mfor\u001b[39;00m batch_images \u001b[38;5;129;01min\u001b[39;00m tqdm(loader):\n\u001b[0;32m     10\u001b[0m     batch_images \u001b[38;5;241m=\u001b[39m batch_images\u001b[38;5;241m.\u001b[39mto(DEVICE)\n\u001b[1;32m---> 11\u001b[0m     d_loss \u001b[38;5;241m=\u001b[39m \u001b[43mtrain_discriminator\u001b[49m\u001b[43m(\u001b[49m\u001b[43mG\u001b[49m\u001b[43m,\u001b[49m\u001b[43m \u001b[49m\u001b[43mD\u001b[49m\u001b[43m,\u001b[49m\u001b[43m \u001b[49m\u001b[43mdownsampler\u001b[49m\u001b[43m,\u001b[49m\u001b[43m \u001b[49m\u001b[43mbatch_images\u001b[49m\u001b[43m,\u001b[49m\u001b[43m \u001b[49m\u001b[43mLOSS_FN\u001b[49m\u001b[43m,\u001b[49m\u001b[43m \u001b[49m\u001b[43md_optimizer\u001b[49m\u001b[43m,\u001b[49m\u001b[43m \u001b[49m\u001b[43mLATENT_SIZE\u001b[49m\u001b[43m,\u001b[49m\u001b[43m \u001b[49m\u001b[43mBATCH_SIZE\u001b[49m\u001b[43m,\u001b[49m\u001b[43m \u001b[49m\u001b[43mDEVICE\u001b[49m\u001b[43m)\u001b[49m\n\u001b[0;32m     12\u001b[0m     g_loss \u001b[38;5;241m=\u001b[39m train_generator(G, D, LOSS_FN, g_optimizer, LATENT_SIZE, BATCH_SIZE, DEVICE)\n\u001b[0;32m     14\u001b[0m d_loss, g_loss, r_score, f_score, fake_images \u001b[38;5;241m=\u001b[39m evaluate(G, D, downsampler, LOSS_FN, val_loader, LATENT_SIZE, BATCH_SIZE, DEVICE)\n",
      "File \u001b[1;32m~\\Desktop\\WaifuGenerator\\MSGGAN\\trainMSG.py:13\u001b[0m, in \u001b[0;36mtrain_discriminator\u001b[1;34m(G, D, downsampler, images, loss_fn, optimizer, latent_size, batch_size, device)\u001b[0m\n\u001b[0;32m     10\u001b[0m real_preds \u001b[38;5;241m=\u001b[39m D(add_noise(downsampled_real, device\u001b[38;5;241m=\u001b[39mdevice))\n\u001b[0;32m     11\u001b[0m real_loss \u001b[38;5;241m=\u001b[39m loss_fn(real_preds, real_labels)\n\u001b[1;32m---> 13\u001b[0m latent \u001b[38;5;241m=\u001b[39m \u001b[43mtorch\u001b[49m\u001b[38;5;241;43m.\u001b[39;49m\u001b[43mrandn\u001b[49m\u001b[43m(\u001b[49m\u001b[43mbatch_size\u001b[49m\u001b[43m,\u001b[49m\u001b[43m \u001b[49m\u001b[38;5;241;43m*\u001b[39;49m\u001b[43mlatent_size\u001b[49m\u001b[43m)\u001b[49m\u001b[38;5;241;43m.\u001b[39;49m\u001b[43mto\u001b[49m\u001b[43m(\u001b[49m\u001b[43mdevice\u001b[49m\u001b[43m)\u001b[49m\n\u001b[0;32m     14\u001b[0m intermediate_outputs \u001b[38;5;241m=\u001b[39m G(latent)\n\u001b[0;32m     15\u001b[0m fake_preds \u001b[38;5;241m=\u001b[39m D(intermediate_outputs)\n",
      "\u001b[1;31mKeyboardInterrupt\u001b[0m: "
     ]
    }
   ],
   "source": [
    "for epochs in range(start_epochs, EPOCHS):\n",
    "    start = time.time()\n",
    "    # Reload dataset\n",
    "    if RELOAD_DS_PER_EPOCH:\n",
    "        ds = LoadDataset('../data/train', MEAN, STD, length=TRAINNING_DS_SIZE)\n",
    "        loader = DataLoader(ds, batch_size=BATCH_SIZE, shuffle=True, num_workers=CORES)\n",
    "    \n",
    "\n",
    "    for batch_images in tqdm(loader):\n",
    "        batch_images = batch_images.to(DEVICE)\n",
    "        d_loss = train_discriminator(G, D, downsampler, batch_images, LOSS_FN, d_optimizer, LATENT_SIZE, BATCH_SIZE, DEVICE)\n",
    "        g_loss = train_generator(G, D, LOSS_FN, g_optimizer, LATENT_SIZE, BATCH_SIZE, DEVICE)\n",
    "        \n",
    "    d_loss, g_loss, r_score, f_score, fake_images = evaluate(G, D, downsampler, LOSS_FN, val_loader, LATENT_SIZE, BATCH_SIZE, DEVICE)\n",
    "    d_losses.append(d_loss)\n",
    "    g_losses.append(g_loss)\n",
    "    r_scores.append(r_score)\n",
    "    f_scores.append(f_score)\n",
    "    \n",
    "    torch.save(G.state_dict(), 'models/generator.pth')\n",
    "    torch.save(D.state_dict(), 'models/discriminator.pth')\n",
    "    \n",
    "    d_loss = round(d_loss,5)\n",
    "    g_loss = round(g_loss,5)\n",
    "    r_score = round(r_score,5)\n",
    "    f_score = round(f_score,5)\n",
    "\n",
    "    d_optimizer.param_groups[0]['lr'] -= D_LR_DECAY\n",
    "    g_optimizer.param_groups[0]['lr'] -= G_LR_DECAY\n",
    "\n",
    "    elapsed = round(time.time()-start, 2)\n",
    "    print(f\"Epoch #{epochs+1}: d_loss={d_loss}, g_loss={g_loss}, r_score={r_score}, f_score={f_score} elapsed={elapsed} s\")\n",
    "    \n",
    "    with open(\"log.json\", \"r\") as fh:\n",
    "        log = json.load(fh)\n",
    "    log[\"epochs\"] += 1\n",
    "    log[epochs+1] = {\"d_loss\": d_loss, \"g_loss\": g_loss, \"r_score\": r_score, \"f_score\": f_score, \"elapsed\": elapsed}\n",
    "    \n",
    "    with open(\"log.json\", \"w\") as fh:\n",
    "        json.dump(log, fh)\n",
    "    \n",
    "    save_image(fake_images, f'output/{epochs+1}.png')"
   ]
  },
  {
   "cell_type": "code",
   "execution_count": null,
   "id": "2dffadd2",
   "metadata": {},
   "outputs": [],
   "source": [
    "latent = "
   ]
  }
 ],
 "metadata": {
  "kernelspec": {
   "display_name": "Python 3 (ipykernel)",
   "language": "python",
   "name": "python3"
  },
  "language_info": {
   "codemirror_mode": {
    "name": "ipython",
    "version": 3
   },
   "file_extension": ".py",
   "mimetype": "text/x-python",
   "name": "python",
   "nbconvert_exporter": "python",
   "pygments_lexer": "ipython3",
   "version": "3.8.12"
  }
 },
 "nbformat": 4,
 "nbformat_minor": 5
}
