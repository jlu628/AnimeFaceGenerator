{
 "cells": [
  {
   "cell_type": "markdown",
   "id": "3eac7e0e",
   "metadata": {},
   "source": [
    "## 0. Imports"
   ]
  },
  {
   "cell_type": "code",
   "execution_count": 1,
   "id": "3715e7cd",
   "metadata": {},
   "outputs": [],
   "source": [
    "from torch.utils.data import DataLoader\n",
    "from torchvision.utils import save_image\n",
    "import numpy as np\n",
    "import torch\n",
    "import time\n",
    "import json\n",
    "from tqdm.notebook import tqdm\n",
    "\n",
    "from dataset import LoadDataset\n",
    "from model import Generator, Discriminator\n",
    "from train import train_generator, train_discriminator, evaluate\n",
    "from settings import DEVICE, MEAN, STD, BATCH_SIZE, LATENT_SIZE, EPOCHS, LOSS_FN, OPTIMIZER, BETAS, D_LR, D_LR_DECAY, G_LR, G_LR_DECAY, CORES, LOAD_MODELS\n",
    "\n",
    "torch.set_num_threads(4)\n",
    "\n",
    "import autoreload\n",
    "%load_ext autoreload\n",
    "%autoreload 2"
   ]
  },
  {
   "cell_type": "markdown",
   "id": "f5cd1d82",
   "metadata": {},
   "source": [
    "## 1. Dataset"
   ]
  },
  {
   "cell_type": "code",
   "execution_count": 2,
   "id": "fa79b8af",
   "metadata": {},
   "outputs": [
    {
     "data": {
      "text/plain": [
       "92032"
      ]
     },
     "execution_count": 2,
     "metadata": {},
     "output_type": "execute_result"
    }
   ],
   "source": [
    "ds = LoadDataset('data/train', MEAN, STD)\n",
    "loader = DataLoader(ds, batch_size=BATCH_SIZE, shuffle=True, num_workers=CORES)\n",
    "num_batches = len(ds)/BATCH_SIZE\n",
    "\n",
    "val_ds = LoadDataset('data/val', MEAN, STD)\n",
    "val_loader = DataLoader(val_ds, batch_size=BATCH_SIZE, shuffle=True, num_workers=CORES)\n",
    "\n",
    "len(ds)"
   ]
  },
  {
   "cell_type": "markdown",
   "id": "7da8989d",
   "metadata": {},
   "source": [
    "## 2. Models"
   ]
  },
  {
   "cell_type": "code",
   "execution_count": 3,
   "id": "eb9be65d",
   "metadata": {},
   "outputs": [
    {
     "name": "stdout",
     "output_type": "stream",
     "text": [
      "Generator(\n",
      "  (upsampling): Sequential(\n",
      "    (0): ConvTranspose2d(128, 1024, kernel_size=(4, 4), stride=(1, 1), bias=False)\n",
      "    (1): BatchNorm2d(1024, eps=1e-05, momentum=0.1, affine=True, track_running_stats=True)\n",
      "    (2): ReLU(inplace=True)\n",
      "    (3): ConvTranspose2d(1024, 512, kernel_size=(4, 4), stride=(2, 2), padding=(1, 1), bias=False)\n",
      "    (4): BatchNorm2d(512, eps=1e-05, momentum=0.1, affine=True, track_running_stats=True)\n",
      "    (5): ReLU(inplace=True)\n",
      "    (6): ConvTranspose2d(512, 256, kernel_size=(4, 4), stride=(2, 2), padding=(1, 1), bias=False)\n",
      "    (7): BatchNorm2d(256, eps=1e-05, momentum=0.1, affine=True, track_running_stats=True)\n",
      "    (8): ReLU(inplace=True)\n",
      "    (9): ConvTranspose2d(256, 128, kernel_size=(4, 4), stride=(2, 2), padding=(1, 1), bias=False)\n",
      "    (10): BatchNorm2d(128, eps=1e-05, momentum=0.1, affine=True, track_running_stats=True)\n",
      "    (11): ReLU(inplace=True)\n",
      "    (12): ConvTranspose2d(128, 64, kernel_size=(4, 4), stride=(2, 2), padding=(1, 1), bias=False)\n",
      "    (13): BatchNorm2d(64, eps=1e-05, momentum=0.1, affine=True, track_running_stats=True)\n",
      "    (14): ReLU(inplace=True)\n",
      "    (15): ConvTranspose2d(64, 32, kernel_size=(4, 4), stride=(2, 2), padding=(1, 1), bias=False)\n",
      "    (16): BatchNorm2d(32, eps=1e-05, momentum=0.1, affine=True, track_running_stats=True)\n",
      "    (17): ReLU(inplace=True)\n",
      "    (18): ConvTranspose2d(32, 3, kernel_size=(4, 4), stride=(2, 2), padding=(1, 1), bias=False)\n",
      "    (19): Tanh()\n",
      "  )\n",
      ")\n",
      "Discriminator(\n",
      "  (downsampling): Sequential(\n",
      "    (0): Conv2d(3, 32, kernel_size=(4, 4), stride=(2, 2), padding=(1, 1), bias=False)\n",
      "    (1): BatchNorm2d(32, eps=1e-05, momentum=0.1, affine=True, track_running_stats=True)\n",
      "    (2): LeakyReLU(negative_slope=0.2, inplace=True)\n",
      "    (3): Conv2d(32, 64, kernel_size=(4, 4), stride=(2, 2), padding=(1, 1), bias=False)\n",
      "    (4): BatchNorm2d(64, eps=1e-05, momentum=0.1, affine=True, track_running_stats=True)\n",
      "    (5): LeakyReLU(negative_slope=0.2, inplace=True)\n",
      "    (6): Conv2d(64, 128, kernel_size=(4, 4), stride=(2, 2), padding=(1, 1), bias=False)\n",
      "    (7): BatchNorm2d(128, eps=1e-05, momentum=0.1, affine=True, track_running_stats=True)\n",
      "    (8): LeakyReLU(negative_slope=0.2, inplace=True)\n",
      "    (9): Conv2d(128, 256, kernel_size=(4, 4), stride=(2, 2), padding=(1, 1), bias=False)\n",
      "    (10): BatchNorm2d(256, eps=1e-05, momentum=0.1, affine=True, track_running_stats=True)\n",
      "    (11): LeakyReLU(negative_slope=0.2, inplace=True)\n",
      "    (12): Conv2d(256, 512, kernel_size=(4, 4), stride=(2, 2), padding=(1, 1), bias=False)\n",
      "    (13): BatchNorm2d(512, eps=1e-05, momentum=0.1, affine=True, track_running_stats=True)\n",
      "    (14): LeakyReLU(negative_slope=0.2, inplace=True)\n",
      "    (15): Conv2d(512, 1024, kernel_size=(4, 4), stride=(2, 2), padding=(1, 1), bias=False)\n",
      "    (16): BatchNorm2d(1024, eps=1e-05, momentum=0.1, affine=True, track_running_stats=True)\n",
      "    (17): LeakyReLU(negative_slope=0.2, inplace=True)\n",
      "    (18): Conv2d(1024, 1, kernel_size=(4, 4), stride=(1, 1), bias=False)\n",
      "    (19): Sigmoid()\n",
      "    (20): Flatten(start_dim=1, end_dim=-1)\n",
      "  )\n",
      ")\n",
      "Num parameters in Discriminator: 11195840\n",
      "Num parameters in Generator: 13276608\n"
     ]
    }
   ],
   "source": [
    "G, D = Generator(), Discriminator()\n",
    "print(G)\n",
    "print(D)\n",
    "print(f\"Num parameters in Discriminator: {sum(p.numel() for p in D.parameters())}\")\n",
    "print(f\"Num parameters in Generator: {sum(p.numel() for p in G.parameters())}\")"
   ]
  },
  {
   "cell_type": "markdown",
   "id": "9c421f84",
   "metadata": {},
   "source": [
    "## 3. Training"
   ]
  },
  {
   "cell_type": "code",
   "execution_count": 4,
   "id": "ea04b56d",
   "metadata": {},
   "outputs": [
    {
     "name": "stdout",
     "output_type": "stream",
     "text": [
      "Model loaded\n",
      "Start at epochs 1\n"
     ]
    }
   ],
   "source": [
    "d_losses = []\n",
    "g_losses = []\n",
    "r_scores = []\n",
    "f_scores = []\n",
    "d_optimizer = OPTIMIZER(D.parameters(), D_LR, betas=BETAS)\n",
    "g_optimizer = OPTIMIZER(G.parameters(), G_LR, betas=BETAS)\n",
    "\n",
    "\n",
    "try:\n",
    "    if LOAD_MODELS:\n",
    "        D.load_state_dict(torch.load('discriminator.pth'))\n",
    "        G.load_state_dict(torch.load('generator.pth'))\n",
    "        print(\"Model loaded\")\n",
    "    else:\n",
    "        print(\"Trainning new model\")\n",
    "except:\n",
    "    print(\"Trainning new model\")\n",
    "    pass\n",
    "\n",
    "D.to(DEVICE)\n",
    "G.to(DEVICE)\n",
    "\n",
    "if not LOAD_MODELS:\n",
    "    with open(\"log.json\", \"w\") as fh:\n",
    "        json.dump({\"epochs\": 0}, fh)\n",
    "    start_epochs = 0\n",
    "else:\n",
    "    with open(\"log.json\", \"r\") as fh:\n",
    "        log = json.load(fh)\n",
    "    start_epochs = log['epochs']\n",
    "    for e in range(1, start_epochs+1):\n",
    "        d_losses.append(log[str(e)]['d_loss'])\n",
    "        g_losses.append(log[str(e)]['g_loss'])\n",
    "        r_scores.append(log[str(e)]['r_score'])\n",
    "        f_scores.append(log[str(e)]['f_score'])\n",
    "\n",
    "    d_optimizer.param_groups[0]['lr'] -= D_LR_DECAY * start_epochs\n",
    "    g_optimizer.param_groups[0]['lr'] -= G_LR_DECAY * start_epochs\n",
    "    latent = torch.randn(BATCH_SIZE, *LATENT_SIZE).to(DEVICE)\n",
    "    fake_images = G(latent)*0.5 + 0.5\n",
    "    save_image(fake_images, 'current.png')\n",
    "print(f\"Start at epochs {start_epochs}\")"
   ]
  },
  {
   "cell_type": "code",
   "execution_count": null,
   "id": "cd8c6f0d",
   "metadata": {
    "scrolled": false
   },
   "outputs": [
    {
     "data": {
      "application/vnd.jupyter.widget-view+json": {
       "model_id": "76ab99820e65414c8666fcad02802405",
       "version_major": 2,
       "version_minor": 0
      },
      "text/plain": [
       "  0%|          | 0/1438 [00:00<?, ?it/s]"
      ]
     },
     "metadata": {},
     "output_type": "display_data"
    },
    {
     "name": "stdout",
     "output_type": "stream",
     "text": [
      "Epoch #2: d_loss=0.14574, g_loss=5.39642, r_score=0.882, f_score=0.00624 elapsed=16830.96 s\n"
     ]
    },
    {
     "data": {
      "application/vnd.jupyter.widget-view+json": {
       "model_id": "a2e350a0398949918965a8d50ea6ba6b",
       "version_major": 2,
       "version_minor": 0
      },
      "text/plain": [
       "  0%|          | 0/1438 [00:00<?, ?it/s]"
      ]
     },
     "metadata": {},
     "output_type": "display_data"
    },
    {
     "name": "stdout",
     "output_type": "stream",
     "text": [
      "Epoch #3: d_loss=0.31925, g_loss=5.39696, r_score=0.74758, f_score=0.00563 elapsed=16730.28 s\n"
     ]
    },
    {
     "data": {
      "application/vnd.jupyter.widget-view+json": {
       "model_id": "8d72e6c499b842c0b9057b7b5af05f36",
       "version_major": 2,
       "version_minor": 0
      },
      "text/plain": [
       "  0%|          | 0/1438 [00:00<?, ?it/s]"
      ]
     },
     "metadata": {},
     "output_type": "display_data"
    },
    {
     "name": "stdout",
     "output_type": "stream",
     "text": [
      "Epoch #4: d_loss=0.11097, g_loss=4.53547, r_score=0.92214, f_score=0.02386 elapsed=16637.74 s\n"
     ]
    },
    {
     "data": {
      "application/vnd.jupyter.widget-view+json": {
       "model_id": "56c049a129a64f658f7448a16cad14fc",
       "version_major": 2,
       "version_minor": 0
      },
      "text/plain": [
       "  0%|          | 0/1438 [00:00<?, ?it/s]"
      ]
     },
     "metadata": {},
     "output_type": "display_data"
    },
    {
     "name": "stdout",
     "output_type": "stream",
     "text": [
      "Epoch #5: d_loss=0.05343, g_loss=5.15192, r_score=0.95684, f_score=0.00772 elapsed=16648.47 s\n"
     ]
    },
    {
     "data": {
      "application/vnd.jupyter.widget-view+json": {
       "model_id": "41153dabf50c4f53a84ea3f7070e048b",
       "version_major": 2,
       "version_minor": 0
      },
      "text/plain": [
       "  0%|          | 0/1438 [00:00<?, ?it/s]"
      ]
     },
     "metadata": {},
     "output_type": "display_data"
    },
    {
     "name": "stdout",
     "output_type": "stream",
     "text": [
      "Epoch #6: d_loss=1.25529, g_loss=0.86844, r_score=0.99187, f_score=0.5579 elapsed=16633.59 s\n"
     ]
    },
    {
     "data": {
      "application/vnd.jupyter.widget-view+json": {
       "model_id": "4698563c63a74f068504e1bffa1bbe9d",
       "version_major": 2,
       "version_minor": 0
      },
      "text/plain": [
       "  0%|          | 0/1438 [00:00<?, ?it/s]"
      ]
     },
     "metadata": {},
     "output_type": "display_data"
    },
    {
     "name": "stdout",
     "output_type": "stream",
     "text": [
      "Epoch #7: d_loss=0.17687, g_loss=4.26376, r_score=0.85782, f_score=0.01514 elapsed=20220.14 s\n"
     ]
    },
    {
     "data": {
      "application/vnd.jupyter.widget-view+json": {
       "model_id": "06b91b4ff9894708a9d7b7abcea9859d",
       "version_major": 2,
       "version_minor": 0
      },
      "text/plain": [
       "  0%|          | 0/1438 [00:00<?, ?it/s]"
      ]
     },
     "metadata": {},
     "output_type": "display_data"
    },
    {
     "name": "stdout",
     "output_type": "stream",
     "text": [
      "Epoch #8: d_loss=0.11768, g_loss=2.9622, r_score=0.94877, f_score=0.06111 elapsed=36104.61 s\n"
     ]
    },
    {
     "data": {
      "application/vnd.jupyter.widget-view+json": {
       "model_id": "db8cf00d635e466eadcb3ca3f668b0a4",
       "version_major": 2,
       "version_minor": 0
      },
      "text/plain": [
       "  0%|          | 0/1438 [00:00<?, ?it/s]"
      ]
     },
     "metadata": {},
     "output_type": "display_data"
    },
    {
     "name": "stdout",
     "output_type": "stream",
     "text": [
      "Epoch #9: d_loss=0.22829, g_loss=3.92042, r_score=0.83027, f_score=0.02208 elapsed=16373.28 s\n"
     ]
    },
    {
     "data": {
      "application/vnd.jupyter.widget-view+json": {
       "model_id": "825e67b511194926842e03db51fbe18c",
       "version_major": 2,
       "version_minor": 0
      },
      "text/plain": [
       "  0%|          | 0/1438 [00:00<?, ?it/s]"
      ]
     },
     "metadata": {},
     "output_type": "display_data"
    },
    {
     "name": "stdout",
     "output_type": "stream",
     "text": [
      "Epoch #10: d_loss=0.18367, g_loss=3.74004, r_score=0.86768, f_score=0.03178 elapsed=16395.93 s\n"
     ]
    },
    {
     "data": {
      "application/vnd.jupyter.widget-view+json": {
       "model_id": "902677dc501b4141b6cbd3880a86ac60",
       "version_major": 2,
       "version_minor": 0
      },
      "text/plain": [
       "  0%|          | 0/1438 [00:00<?, ?it/s]"
      ]
     },
     "metadata": {},
     "output_type": "display_data"
    },
    {
     "name": "stdout",
     "output_type": "stream",
     "text": [
      "Epoch #11: d_loss=0.06465, g_loss=7.42611, r_score=0.94013, f_score=0.00174 elapsed=22015.74 s\n"
     ]
    },
    {
     "data": {
      "application/vnd.jupyter.widget-view+json": {
       "model_id": "00be2efda8af4b75bcda99670887bae9",
       "version_major": 2,
       "version_minor": 0
      },
      "text/plain": [
       "  0%|          | 0/1438 [00:00<?, ?it/s]"
      ]
     },
     "metadata": {},
     "output_type": "display_data"
    },
    {
     "name": "stdout",
     "output_type": "stream",
     "text": [
      "Epoch #12: d_loss=0.04757, g_loss=4.9611, r_score=0.96313, f_score=0.00961 elapsed=17094.22 s\n"
     ]
    },
    {
     "data": {
      "application/vnd.jupyter.widget-view+json": {
       "model_id": "967e2342f402498db2d260a7c02c436e",
       "version_major": 2,
       "version_minor": 0
      },
      "text/plain": [
       "  0%|          | 0/1438 [00:00<?, ?it/s]"
      ]
     },
     "metadata": {},
     "output_type": "display_data"
    },
    {
     "name": "stdout",
     "output_type": "stream",
     "text": [
      "Epoch #13: d_loss=0.1957, g_loss=11.52215, r_score=0.83408, f_score=0.00013 elapsed=16666.67 s\n"
     ]
    },
    {
     "data": {
      "application/vnd.jupyter.widget-view+json": {
       "model_id": "e6d3e8715b7a4d899bc9acc797b738af",
       "version_major": 2,
       "version_minor": 0
      },
      "text/plain": [
       "  0%|          | 0/1438 [00:00<?, ?it/s]"
      ]
     },
     "metadata": {},
     "output_type": "display_data"
    },
    {
     "name": "stdout",
     "output_type": "stream",
     "text": [
      "Epoch #14: d_loss=0.20518, g_loss=3.02202, r_score=0.8677, f_score=0.0547 elapsed=16590.43 s\n"
     ]
    },
    {
     "data": {
      "application/vnd.jupyter.widget-view+json": {
       "model_id": "e066b2fcc67442fdbda0e4bbb8ea45b9",
       "version_major": 2,
       "version_minor": 0
      },
      "text/plain": [
       "  0%|          | 0/1438 [00:00<?, ?it/s]"
      ]
     },
     "metadata": {},
     "output_type": "display_data"
    },
    {
     "name": "stdout",
     "output_type": "stream",
     "text": [
      "Epoch #15: d_loss=0.07689, g_loss=4.07848, r_score=0.94592, f_score=0.02045 elapsed=16601.97 s\n"
     ]
    },
    {
     "data": {
      "application/vnd.jupyter.widget-view+json": {
       "model_id": "08a00f8c0cc2414cb54ba9ffe1c93f55",
       "version_major": 2,
       "version_minor": 0
      },
      "text/plain": [
       "  0%|          | 0/1438 [00:00<?, ?it/s]"
      ]
     },
     "metadata": {},
     "output_type": "display_data"
    },
    {
     "name": "stdout",
     "output_type": "stream",
     "text": [
      "Epoch #16: d_loss=0.13673, g_loss=7.0118, r_score=0.87781, f_score=0.00117 elapsed=61700.25 s\n"
     ]
    },
    {
     "data": {
      "application/vnd.jupyter.widget-view+json": {
       "model_id": "dc9934b05dc1476e8d5e02f488356b99",
       "version_major": 2,
       "version_minor": 0
      },
      "text/plain": [
       "  0%|          | 0/1438 [00:00<?, ?it/s]"
      ]
     },
     "metadata": {},
     "output_type": "display_data"
    },
    {
     "name": "stdout",
     "output_type": "stream",
     "text": [
      "Epoch #17: d_loss=0.11142, g_loss=5.87, r_score=0.89909, f_score=0.00327 elapsed=16296.42 s\n"
     ]
    },
    {
     "data": {
      "application/vnd.jupyter.widget-view+json": {
       "model_id": "d9cac1030fd54cd7a94ca00d511f21cf",
       "version_major": 2,
       "version_minor": 0
      },
      "text/plain": [
       "  0%|          | 0/1438 [00:00<?, ?it/s]"
      ]
     },
     "metadata": {},
     "output_type": "display_data"
    },
    {
     "name": "stdout",
     "output_type": "stream",
     "text": [
      "Epoch #18: d_loss=0.13313, g_loss=6.15621, r_score=0.88101, f_score=0.00278 elapsed=16675.59 s\n"
     ]
    },
    {
     "data": {
      "application/vnd.jupyter.widget-view+json": {
       "model_id": "7c8dfedb36e74ab4a3e165b75a0be505",
       "version_major": 2,
       "version_minor": 0
      },
      "text/plain": [
       "  0%|          | 0/1438 [00:00<?, ?it/s]"
      ]
     },
     "metadata": {},
     "output_type": "display_data"
    },
    {
     "name": "stdout",
     "output_type": "stream",
     "text": [
      "Epoch #19: d_loss=0.11412, g_loss=7.42271, r_score=0.89396, f_score=0.00092 elapsed=17830.54 s\n"
     ]
    },
    {
     "data": {
      "application/vnd.jupyter.widget-view+json": {
       "model_id": "2d468f9933f047f28dddf2f5e18d25bc",
       "version_major": 2,
       "version_minor": 0
      },
      "text/plain": [
       "  0%|          | 0/1438 [00:00<?, ?it/s]"
      ]
     },
     "metadata": {},
     "output_type": "display_data"
    },
    {
     "name": "stdout",
     "output_type": "stream",
     "text": [
      "Epoch #20: d_loss=0.18493, g_loss=4.3946, r_score=0.86958, f_score=0.01635 elapsed=17921.5 s\n"
     ]
    },
    {
     "data": {
      "application/vnd.jupyter.widget-view+json": {
       "model_id": "9a22eb28ac27472085838e3fd46961be",
       "version_major": 2,
       "version_minor": 0
      },
      "text/plain": [
       "  0%|          | 0/1438 [00:00<?, ?it/s]"
      ]
     },
     "metadata": {},
     "output_type": "display_data"
    },
    {
     "name": "stdout",
     "output_type": "stream",
     "text": [
      "Epoch #21: d_loss=0.1092, g_loss=5.15798, r_score=0.90436, f_score=0.0066 elapsed=17497.86 s\n"
     ]
    },
    {
     "data": {
      "application/vnd.jupyter.widget-view+json": {
       "model_id": "791e3003b16945b78882f2febcaf30ff",
       "version_major": 2,
       "version_minor": 0
      },
      "text/plain": [
       "  0%|          | 0/1438 [00:00<?, ?it/s]"
      ]
     },
     "metadata": {},
     "output_type": "display_data"
    },
    {
     "name": "stdout",
     "output_type": "stream",
     "text": [
      "Epoch #22: d_loss=0.09605, g_loss=5.57523, r_score=0.91334, f_score=0.00432 elapsed=16454.51 s\n"
     ]
    },
    {
     "data": {
      "application/vnd.jupyter.widget-view+json": {
       "model_id": "9bb72b8ae2eb4541ae3b1214b61cf497",
       "version_major": 2,
       "version_minor": 0
      },
      "text/plain": [
       "  0%|          | 0/1438 [00:00<?, ?it/s]"
      ]
     },
     "metadata": {},
     "output_type": "display_data"
    },
    {
     "name": "stdout",
     "output_type": "stream",
     "text": [
      "Epoch #23: d_loss=0.09718, g_loss=4.89593, r_score=0.91647, f_score=0.00865 elapsed=16928.7 s\n"
     ]
    },
    {
     "data": {
      "application/vnd.jupyter.widget-view+json": {
       "model_id": "dceb15c0437249ef88053eebec621e8a",
       "version_major": 2,
       "version_minor": 0
      },
      "text/plain": [
       "  0%|          | 0/1438 [00:00<?, ?it/s]"
      ]
     },
     "metadata": {},
     "output_type": "display_data"
    },
    {
     "name": "stdout",
     "output_type": "stream",
     "text": [
      "Epoch #24: d_loss=0.11783, g_loss=5.31263, r_score=0.89589, f_score=0.00561 elapsed=19584.2 s\n"
     ]
    },
    {
     "data": {
      "application/vnd.jupyter.widget-view+json": {
       "model_id": "02550ddbd87b4776babd14f80785b265",
       "version_major": 2,
       "version_minor": 0
      },
      "text/plain": [
       "  0%|          | 0/1438 [00:00<?, ?it/s]"
      ]
     },
     "metadata": {},
     "output_type": "display_data"
    },
    {
     "name": "stdout",
     "output_type": "stream",
     "text": [
      "Epoch #25: d_loss=0.09328, g_loss=12.53481, r_score=0.91258, f_score=0.0 elapsed=19099.09 s\n"
     ]
    },
    {
     "data": {
      "application/vnd.jupyter.widget-view+json": {
       "model_id": "759195f877ef4ff492aa29d1fe3299d6",
       "version_major": 2,
       "version_minor": 0
      },
      "text/plain": [
       "  0%|          | 0/1438 [00:00<?, ?it/s]"
      ]
     },
     "metadata": {},
     "output_type": "display_data"
    },
    {
     "name": "stdout",
     "output_type": "stream",
     "text": [
      "Epoch #26: d_loss=0.12785, g_loss=6.82708, r_score=0.88402, f_score=0.00129 elapsed=18944.99 s\n"
     ]
    },
    {
     "data": {
      "application/vnd.jupyter.widget-view+json": {
       "model_id": "7376e258958f4966859ab2c3132c9f24",
       "version_major": 2,
       "version_minor": 0
      },
      "text/plain": [
       "  0%|          | 0/1438 [00:00<?, ?it/s]"
      ]
     },
     "metadata": {},
     "output_type": "display_data"
    },
    {
     "name": "stdout",
     "output_type": "stream",
     "text": [
      "Epoch #27: d_loss=0.13145, g_loss=7.42654, r_score=0.97923, f_score=0.09823 elapsed=18313.39 s\n"
     ]
    },
    {
     "data": {
      "application/vnd.jupyter.widget-view+json": {
       "model_id": "e4c9c0ee4d4b4cd487119c88b762ec52",
       "version_major": 2,
       "version_minor": 0
      },
      "text/plain": [
       "  0%|          | 0/1438 [00:00<?, ?it/s]"
      ]
     },
     "metadata": {},
     "output_type": "display_data"
    },
    {
     "name": "stdout",
     "output_type": "stream",
     "text": [
      "Epoch #28: d_loss=0.07824, g_loss=3.25569, r_score=0.9644, f_score=0.04086 elapsed=19181.97 s\n"
     ]
    },
    {
     "data": {
      "application/vnd.jupyter.widget-view+json": {
       "model_id": "b8f26a0168ca4bf4a7741ad7dcc5f31d",
       "version_major": 2,
       "version_minor": 0
      },
      "text/plain": [
       "  0%|          | 0/1438 [00:00<?, ?it/s]"
      ]
     },
     "metadata": {},
     "output_type": "display_data"
    }
   ],
   "source": [
    "for epochs in range(start_epochs, EPOCHS):\n",
    "    start = time.time()\n",
    "\n",
    "    for batch_images in tqdm(loader):\n",
    "        batch_images = batch_images.to(DEVICE)\n",
    "        d_loss = train_discriminator(G, D, batch_images, LOSS_FN, d_optimizer, LATENT_SIZE, BATCH_SIZE, DEVICE)\n",
    "        g_loss = train_generator(G, D, LOSS_FN, g_optimizer, LATENT_SIZE, BATCH_SIZE, DEVICE)\n",
    "        \n",
    "    d_loss, g_loss, r_score, f_score, fake_images = evaluate(G, D, LOSS_FN, val_loader, LATENT_SIZE, BATCH_SIZE, DEVICE)\n",
    "    d_losses.append(d_loss)\n",
    "    g_losses.append(g_loss)\n",
    "    r_scores.append(r_score)\n",
    "    f_scores.append(f_score)\n",
    "    torch.save(G.state_dict(), 'generator.pth')\n",
    "    torch.save(D.state_dict(), 'discriminator.pth')\n",
    "    \n",
    "    d_loss = round(d_loss,5)\n",
    "    g_loss = round(g_loss,5)\n",
    "    r_score = round(r_score,5)\n",
    "    f_score = round(f_score,5)\n",
    "\n",
    "    d_optimizer.param_groups[0]['lr'] -= D_LR_DECAY\n",
    "    g_optimizer.param_groups[0]['lr'] -= G_LR_DECAY\n",
    "\n",
    "    elapsed = round(time.time()-start, 2)\n",
    "    print(f\"Epoch #{epochs+1}: d_loss={d_loss}, g_loss={g_loss}, r_score={r_score}, f_score={f_score} elapsed={elapsed} s\")\n",
    "    \n",
    "    with open(\"log.json\", \"r\") as fh:\n",
    "        log = json.load(fh)\n",
    "    log[\"epochs\"] += 1\n",
    "    log[epochs+1] = {\"d_loss\": d_loss, \"g_loss\": g_loss, \"r_score\": r_score, \"f_score\": f_score, \"elapsed\": elapsed}\n",
    "    \n",
    "    with open(\"log.json\", \"w\") as fh:\n",
    "        json.dump(log, fh)\n",
    "    \n",
    "    save_image(fake_images, f'output/{epochs+1}.png')"
   ]
  },
  {
   "cell_type": "code",
   "execution_count": null,
   "id": "6c1001fb",
   "metadata": {},
   "outputs": [],
   "source": []
  }
 ],
 "metadata": {
  "kernelspec": {
   "display_name": "Python 3 (ipykernel)",
   "language": "python",
   "name": "python3"
  },
  "language_info": {
   "codemirror_mode": {
    "name": "ipython",
    "version": 3
   },
   "file_extension": ".py",
   "mimetype": "text/x-python",
   "name": "python",
   "nbconvert_exporter": "python",
   "pygments_lexer": "ipython3",
   "version": "3.9.7"
  }
 },
 "nbformat": 4,
 "nbformat_minor": 5
}
